{
 "cells": [
  {
   "cell_type": "markdown",
   "metadata": {},
   "source": [
    "### Explore raw merged data"
   ]
  },
  {
   "cell_type": "code",
   "execution_count": 1,
   "metadata": {},
   "outputs": [],
   "source": [
    "import pandas as pd\n",
    "import json"
   ]
  },
  {
   "cell_type": "code",
   "execution_count": 2,
   "metadata": {},
   "outputs": [],
   "source": [
    "data = pd.read_parquet('amazon_fashion_merged_051624.parquet')"
   ]
  },
  {
   "cell_type": "code",
   "execution_count": 3,
   "metadata": {},
   "outputs": [
    {
     "data": {
      "text/html": [
       "<div>\n",
       "<style scoped>\n",
       "    .dataframe tbody tr th:only-of-type {\n",
       "        vertical-align: middle;\n",
       "    }\n",
       "\n",
       "    .dataframe tbody tr th {\n",
       "        vertical-align: top;\n",
       "    }\n",
       "\n",
       "    .dataframe thead th {\n",
       "        text-align: right;\n",
       "    }\n",
       "</style>\n",
       "<table border=\"1\" class=\"dataframe\">\n",
       "  <thead>\n",
       "    <tr style=\"text-align: right;\">\n",
       "      <th></th>\n",
       "      <th>main_category</th>\n",
       "      <th>title</th>\n",
       "      <th>average_rating</th>\n",
       "      <th>rating_number</th>\n",
       "      <th>features</th>\n",
       "      <th>description</th>\n",
       "      <th>price</th>\n",
       "      <th>images</th>\n",
       "      <th>videos</th>\n",
       "      <th>store</th>\n",
       "      <th>...</th>\n",
       "      <th>bought_together</th>\n",
       "      <th>rating</th>\n",
       "      <th>title_review</th>\n",
       "      <th>text</th>\n",
       "      <th>images_review</th>\n",
       "      <th>asin</th>\n",
       "      <th>user_id</th>\n",
       "      <th>timestamp</th>\n",
       "      <th>helpful_vote</th>\n",
       "      <th>verified_purchase</th>\n",
       "    </tr>\n",
       "  </thead>\n",
       "  <tbody>\n",
       "    <tr>\n",
       "      <th>0</th>\n",
       "      <td>AMAZON FASHION</td>\n",
       "      <td>CHUVORA 925 Sterling Silver Open Celtic Knot C...</td>\n",
       "      <td>4.3</td>\n",
       "      <td>137</td>\n",
       "      <td>[STAMPED 925 STERLING SILVER - This high quali...</td>\n",
       "      <td>[This beautiful jewelry would be a great addit...</td>\n",
       "      <td>30.00</td>\n",
       "      <td>[{'hi_res': 'https://m.media-amazon.com/images...</td>\n",
       "      <td>[{'title': 'Irish Locket Celtic Locket Necklac...</td>\n",
       "      <td>CHUVORA</td>\n",
       "      <td>...</td>\n",
       "      <td>None</td>\n",
       "      <td>[5.0, 5.0, 2.0, 5.0, 5.0, 3.0, 1.0, 5.0, 5.0, ...</td>\n",
       "      <td>[Pretty locket, Great gift for my wife, OK.......</td>\n",
       "      <td>[I think this locket is really pretty. The ins...</td>\n",
       "      <td>[{'attachment_type': 'IMAGE', 'large_image_url...</td>\n",
       "      <td>[B00LOPVX74, B00LOPVX74, B00LOPVX74, B00LOPVX7...</td>\n",
       "      <td>[AGBFYI2DDIKXC5Y4FARTYDTQBMFQ, AGQIISDDHDYLF2P...</td>\n",
       "      <td>[1578528394489, 1569646964034, 1543507793512, ...</td>\n",
       "      <td>[3, 0, 0, 0, 0, 0, 2, 0, 0, 0, 0, 0, 0, 1, 0, ...</td>\n",
       "      <td>[True, True, True, True, True, True, True, Tru...</td>\n",
       "    </tr>\n",
       "    <tr>\n",
       "      <th>1</th>\n",
       "      <td>AMAZON FASHION</td>\n",
       "      <td>XX-Large Slip Stop Single Tread Slipper Socks ...</td>\n",
       "      <td>4.3</td>\n",
       "      <td>3096</td>\n",
       "      <td>[Cozy Slipper Socks For Men; Bariatric Slipper...</td>\n",
       "      <td>[Anyone looking for the best in single tread s...</td>\n",
       "      <td>20.99</td>\n",
       "      <td>[{'hi_res': 'https://m.media-amazon.com/images...</td>\n",
       "      <td>[]</td>\n",
       "      <td>PrimeMed</td>\n",
       "      <td>...</td>\n",
       "      <td>None</td>\n",
       "      <td>[5.0, 1.0, 5.0, 2.0, 2.0, 5.0, 5.0, 5.0, 2.0, ...</td>\n",
       "      <td>[A, Cheaply made. Single wearing, PROVIDES SAF...</td>\n",
       "      <td>[Great, Very loosely made material. Stretched ...</td>\n",
       "      <td>[{'attachment_type': 'IMAGE', 'large_image_url...</td>\n",
       "      <td>[B07B4JXK8D, B07B4JXK8D, B07B4JXK8D, B07B4JXK8...</td>\n",
       "      <td>[AFQLNQNQYFWQZPJQZS6V3NZU4QBQ, AE73VVEIEFN4NIM...</td>\n",
       "      <td>[1608426246701, 1659519680668, 1611065615429, ...</td>\n",
       "      <td>[0, 0, 0, 0, 4, 0, 0, 0, 0, 0, 0, 0, 14, 14, 0...</td>\n",
       "      <td>[True, True, True, True, True, True, True, Tru...</td>\n",
       "    </tr>\n",
       "    <tr>\n",
       "      <th>2</th>\n",
       "      <td>AMAZON FASHION</td>\n",
       "      <td>Sterling Silver 3mm Round Cut CZ Tennis Bracel...</td>\n",
       "      <td>3.3</td>\n",
       "      <td>18</td>\n",
       "      <td>[]</td>\n",
       "      <td>[]</td>\n",
       "      <td>NaN</td>\n",
       "      <td>[{'hi_res': 'https://m.media-amazon.com/images...</td>\n",
       "      <td>[]</td>\n",
       "      <td>KEZEF</td>\n",
       "      <td>...</td>\n",
       "      <td>None</td>\n",
       "      <td>[2.0, 1.0, 5.0, 5.0, 5.0, 1.0, 5.0, 5.0, 5.0, ...</td>\n",
       "      <td>[Two Stars, One Star, A perfect gift., Subtle,...</td>\n",
       "      <td>[One of the stones fell out within the first 2...</td>\n",
       "      <td>[]</td>\n",
       "      <td>[B007ZSEQ4Q, B007ZSEQ4Q, B007ZSEQ4Q, B007ZSEQ4...</td>\n",
       "      <td>[AHITBJSS7KYUBVZPX7M2WJCOIVKQ, AHUYRZV7YZIEHPE...</td>\n",
       "      <td>[1432344828000, 1473958210000, 1398607925000, ...</td>\n",
       "      <td>[3, 2, 0, 1, 1, 2, 0, 11, 1, 0, 2, 1, 3, 2, 2, 1]</td>\n",
       "      <td>[True, True, True, True, True, True, True, Tru...</td>\n",
       "    </tr>\n",
       "    <tr>\n",
       "      <th>3</th>\n",
       "      <td>AMAZON FASHION</td>\n",
       "      <td>VERO MONTE 4 Pairs Womens TRULY No Show Socks ...</td>\n",
       "      <td>4.0</td>\n",
       "      <td>58</td>\n",
       "      <td>[Machine Wash]</td>\n",
       "      <td>[]</td>\n",
       "      <td>NaN</td>\n",
       "      <td>[{'hi_res': 'https://m.media-amazon.com/images...</td>\n",
       "      <td>[]</td>\n",
       "      <td>VERO MONTE</td>\n",
       "      <td>...</td>\n",
       "      <td>None</td>\n",
       "      <td>[1.0, 1.0, 5.0, 5.0, 5.0, 1.0, 3.0, 5.0, 5.0, ...</td>\n",
       "      <td>[Won’t buy again, Slips from the feet (update ...</td>\n",
       "      <td>[Crappy socks. Money wasted. Bought to wear wi...</td>\n",
       "      <td>[{'attachment_type': 'IMAGE', 'large_image_url...</td>\n",
       "      <td>[B07F2BTFS9, B07F2BTFS9, B07F2BTFS9, B07F2BTFS...</td>\n",
       "      <td>[AFVNEEPDEIH5SPUN5BWC6NKL3WNQ, AH6MYAW6MC5CEA7...</td>\n",
       "      <td>[1546289847095, 1564457717723, 1549309367875, ...</td>\n",
       "      <td>[2, 0, 0, 0, 0, 1, 0, 0, 0, 0, 0, 0, 0, 0, 0, ...</td>\n",
       "      <td>[True, True, True, True, True, True, True, Tru...</td>\n",
       "    </tr>\n",
       "    <tr>\n",
       "      <th>4</th>\n",
       "      <td>AMAZON FASHION</td>\n",
       "      <td>SA106 Womens Rhinestone Jewel Polarized Lens 6...</td>\n",
       "      <td>3.9</td>\n",
       "      <td>34</td>\n",
       "      <td>[Imported, Plastic frame, anti-reflective lens...</td>\n",
       "      <td>[Men's anti-glare lens sunglasses 100% UVA &amp; U...</td>\n",
       "      <td>12.95</td>\n",
       "      <td>[{'hi_res': 'https://m.media-amazon.com/images...</td>\n",
       "      <td>[]</td>\n",
       "      <td>SA106</td>\n",
       "      <td>...</td>\n",
       "      <td>None</td>\n",
       "      <td>[5.0, 3.0, 5.0, 5.0, 5.0, 3.0, 4.0, 3.0, 5.0, ...</td>\n",
       "      <td>[I LOVE these glasses, Great glass, but create...</td>\n",
       "      <td>[I LOVE these glasses!  They fit perfectly ove...</td>\n",
       "      <td>[{'attachment_type': 'IMAGE', 'large_image_url...</td>\n",
       "      <td>[B00PKRFU4O, B00PKRFU4O, B00PKRFWJC, B076J2JZB...</td>\n",
       "      <td>[AHSPLDNW5OOUK2PLH7GXLACFBZNQ, AH6PUGVRXGZ4YXX...</td>\n",
       "      <td>[1439476166000, 1475994490000, 1536541465172, ...</td>\n",
       "      <td>[0, 0, 0, 0, 0, 0, 0, 2, 0, 0, 0, 0, 0, 0, 0, ...</td>\n",
       "      <td>[True, True, True, True, True, True, True, Tru...</td>\n",
       "    </tr>\n",
       "  </tbody>\n",
       "</table>\n",
       "<p>5 rows × 23 columns</p>\n",
       "</div>"
      ],
      "text/plain": [
       "    main_category                                              title  \\\n",
       "0  AMAZON FASHION  CHUVORA 925 Sterling Silver Open Celtic Knot C...   \n",
       "1  AMAZON FASHION  XX-Large Slip Stop Single Tread Slipper Socks ...   \n",
       "2  AMAZON FASHION  Sterling Silver 3mm Round Cut CZ Tennis Bracel...   \n",
       "3  AMAZON FASHION  VERO MONTE 4 Pairs Womens TRULY No Show Socks ...   \n",
       "4  AMAZON FASHION  SA106 Womens Rhinestone Jewel Polarized Lens 6...   \n",
       "\n",
       "   average_rating  rating_number  \\\n",
       "0             4.3            137   \n",
       "1             4.3           3096   \n",
       "2             3.3             18   \n",
       "3             4.0             58   \n",
       "4             3.9             34   \n",
       "\n",
       "                                            features  \\\n",
       "0  [STAMPED 925 STERLING SILVER - This high quali...   \n",
       "1  [Cozy Slipper Socks For Men; Bariatric Slipper...   \n",
       "2                                                 []   \n",
       "3                                     [Machine Wash]   \n",
       "4  [Imported, Plastic frame, anti-reflective lens...   \n",
       "\n",
       "                                         description  price  \\\n",
       "0  [This beautiful jewelry would be a great addit...  30.00   \n",
       "1  [Anyone looking for the best in single tread s...  20.99   \n",
       "2                                                 []    NaN   \n",
       "3                                                 []    NaN   \n",
       "4  [Men's anti-glare lens sunglasses 100% UVA & U...  12.95   \n",
       "\n",
       "                                              images  \\\n",
       "0  [{'hi_res': 'https://m.media-amazon.com/images...   \n",
       "1  [{'hi_res': 'https://m.media-amazon.com/images...   \n",
       "2  [{'hi_res': 'https://m.media-amazon.com/images...   \n",
       "3  [{'hi_res': 'https://m.media-amazon.com/images...   \n",
       "4  [{'hi_res': 'https://m.media-amazon.com/images...   \n",
       "\n",
       "                                              videos       store  ...  \\\n",
       "0  [{'title': 'Irish Locket Celtic Locket Necklac...     CHUVORA  ...   \n",
       "1                                                 []    PrimeMed  ...   \n",
       "2                                                 []       KEZEF  ...   \n",
       "3                                                 []  VERO MONTE  ...   \n",
       "4                                                 []       SA106  ...   \n",
       "\n",
       "  bought_together                                             rating  \\\n",
       "0            None  [5.0, 5.0, 2.0, 5.0, 5.0, 3.0, 1.0, 5.0, 5.0, ...   \n",
       "1            None  [5.0, 1.0, 5.0, 2.0, 2.0, 5.0, 5.0, 5.0, 2.0, ...   \n",
       "2            None  [2.0, 1.0, 5.0, 5.0, 5.0, 1.0, 5.0, 5.0, 5.0, ...   \n",
       "3            None  [1.0, 1.0, 5.0, 5.0, 5.0, 1.0, 3.0, 5.0, 5.0, ...   \n",
       "4            None  [5.0, 3.0, 5.0, 5.0, 5.0, 3.0, 4.0, 3.0, 5.0, ...   \n",
       "\n",
       "                                        title_review  \\\n",
       "0  [Pretty locket, Great gift for my wife, OK.......   \n",
       "1  [A, Cheaply made. Single wearing, PROVIDES SAF...   \n",
       "2  [Two Stars, One Star, A perfect gift., Subtle,...   \n",
       "3  [Won’t buy again, Slips from the feet (update ...   \n",
       "4  [I LOVE these glasses, Great glass, but create...   \n",
       "\n",
       "                                                text  \\\n",
       "0  [I think this locket is really pretty. The ins...   \n",
       "1  [Great, Very loosely made material. Stretched ...   \n",
       "2  [One of the stones fell out within the first 2...   \n",
       "3  [Crappy socks. Money wasted. Bought to wear wi...   \n",
       "4  [I LOVE these glasses!  They fit perfectly ove...   \n",
       "\n",
       "                                       images_review  \\\n",
       "0  [{'attachment_type': 'IMAGE', 'large_image_url...   \n",
       "1  [{'attachment_type': 'IMAGE', 'large_image_url...   \n",
       "2                                                 []   \n",
       "3  [{'attachment_type': 'IMAGE', 'large_image_url...   \n",
       "4  [{'attachment_type': 'IMAGE', 'large_image_url...   \n",
       "\n",
       "                                                asin  \\\n",
       "0  [B00LOPVX74, B00LOPVX74, B00LOPVX74, B00LOPVX7...   \n",
       "1  [B07B4JXK8D, B07B4JXK8D, B07B4JXK8D, B07B4JXK8...   \n",
       "2  [B007ZSEQ4Q, B007ZSEQ4Q, B007ZSEQ4Q, B007ZSEQ4...   \n",
       "3  [B07F2BTFS9, B07F2BTFS9, B07F2BTFS9, B07F2BTFS...   \n",
       "4  [B00PKRFU4O, B00PKRFU4O, B00PKRFWJC, B076J2JZB...   \n",
       "\n",
       "                                             user_id  \\\n",
       "0  [AGBFYI2DDIKXC5Y4FARTYDTQBMFQ, AGQIISDDHDYLF2P...   \n",
       "1  [AFQLNQNQYFWQZPJQZS6V3NZU4QBQ, AE73VVEIEFN4NIM...   \n",
       "2  [AHITBJSS7KYUBVZPX7M2WJCOIVKQ, AHUYRZV7YZIEHPE...   \n",
       "3  [AFVNEEPDEIH5SPUN5BWC6NKL3WNQ, AH6MYAW6MC5CEA7...   \n",
       "4  [AHSPLDNW5OOUK2PLH7GXLACFBZNQ, AH6PUGVRXGZ4YXX...   \n",
       "\n",
       "                                           timestamp  \\\n",
       "0  [1578528394489, 1569646964034, 1543507793512, ...   \n",
       "1  [1608426246701, 1659519680668, 1611065615429, ...   \n",
       "2  [1432344828000, 1473958210000, 1398607925000, ...   \n",
       "3  [1546289847095, 1564457717723, 1549309367875, ...   \n",
       "4  [1439476166000, 1475994490000, 1536541465172, ...   \n",
       "\n",
       "                                        helpful_vote  \\\n",
       "0  [3, 0, 0, 0, 0, 0, 2, 0, 0, 0, 0, 0, 0, 1, 0, ...   \n",
       "1  [0, 0, 0, 0, 4, 0, 0, 0, 0, 0, 0, 0, 14, 14, 0...   \n",
       "2  [3, 2, 0, 1, 1, 2, 0, 11, 1, 0, 2, 1, 3, 2, 2, 1]   \n",
       "3  [2, 0, 0, 0, 0, 1, 0, 0, 0, 0, 0, 0, 0, 0, 0, ...   \n",
       "4  [0, 0, 0, 0, 0, 0, 0, 2, 0, 0, 0, 0, 0, 0, 0, ...   \n",
       "\n",
       "                                   verified_purchase  \n",
       "0  [True, True, True, True, True, True, True, Tru...  \n",
       "1  [True, True, True, True, True, True, True, Tru...  \n",
       "2  [True, True, True, True, True, True, True, Tru...  \n",
       "3  [True, True, True, True, True, True, True, Tru...  \n",
       "4  [True, True, True, True, True, True, True, Tru...  \n",
       "\n",
       "[5 rows x 23 columns]"
      ]
     },
     "execution_count": 3,
     "metadata": {},
     "output_type": "execute_result"
    }
   ],
   "source": [
    "data.head()"
   ]
  },
  {
   "cell_type": "markdown",
   "metadata": {},
   "source": [
    "'main_category' - str\n",
    "\n",
    " 'title' - str\n",
    "\n",
    " 'average_rating' - float64\n",
    "\n",
    " 'rating_number' - int64\n",
    "\n",
    " 'features' - array\n",
    "\n",
    " 'description' - array\n",
    "\n",
    " 'price' - float64\n",
    "\n",
    " 'images' - array\n",
    "\n",
    " 'videos' - array\n",
    "\n",
    " 'store' - str\n",
    "\n",
    " 'categories' - array\n",
    "\n",
    " 'details' - dict\n",
    "\n",
    " 'parent_asin' - str\n",
    "\n",
    " 'bought_together' - None\n",
    "\n",
    " 'rating' - array\n",
    "\n",
    " 'title_review' - array\n",
    "\n",
    " 'text' - array\n",
    "\n",
    " 'images_review' - array\n",
    "\n",
    " 'asin' - array\n",
    "\n",
    " 'user_id' - array\n",
    "\n",
    " 'timestamp' - array\n",
    "\n",
    " 'helpful_vote' - array\n",
    " \n",
    " 'verified_purchase' - array"
   ]
  },
  {
   "cell_type": "code",
   "execution_count": 24,
   "metadata": {},
   "outputs": [],
   "source": [
    "# Export \n",
    "\n",
    "# import pickle\n",
    "# l = list(data['details'].iloc[0].keys())\n",
    "\n",
    "# with open(\"product_DETAILS_keys\", \"wb\") as fp:\n",
    "#     pickle.dump(l, fp)"
   ]
  },
  {
   "cell_type": "code",
   "execution_count": 65,
   "metadata": {},
   "outputs": [
    {
     "data": {
      "text/plain": [
       "array([ True,  True,  True,  True,  True,  True,  True,  True,  True,\n",
       "        True,  True,  True,  True,  True,  True, False,  True,  True,\n",
       "        True,  True,  True,  True,  True,  True,  True,  True,  True,\n",
       "        True,  True,  True,  True,  True,  True,  True,  True,  True,\n",
       "        True,  True,  True,  True,  True,  True,  True,  True,  True])"
      ]
     },
     "execution_count": 65,
     "metadata": {},
     "output_type": "execute_result"
    }
   ],
   "source": [
    "data['verified_purchase'].iloc[0]"
   ]
  },
  {
   "cell_type": "code",
   "execution_count": 26,
   "metadata": {},
   "outputs": [
    {
     "data": {
      "text/plain": [
       "array(['STAMPED 925 STERLING SILVER - This high quality of engraved celtic knot locket and chain is made from the finest sterling silver as indicated with 925 metal stamp. 925 sterling silver is made from 92.5% silver and 7.5% copper. The copper is added to stabilize the silver so that it can hold its beautiful shape.',\n",
       "       \"NICKEL AND LEAD FREE - These beautiful pendant and necklace contain absolutely no nickel or lead, making them safe for people with nickel and lead allergies. Add this great of pendant and necklace to your jewelry collection and have peace of mind every time you wear them. Men or Women' Daily Jewelry and Gift for Your Important One.\",\n",
       "       'PENDANT NECKLACE - This celtic knot pendant necklace are only 0.94 x 1.29 inches long (height including the bail) Inside Measurement 0.62 x 0.62 inches , The pendant comes with the sterling silver snake chain 18 inches long, Spring ring clasp, You can wear this of endearing necklace with a pair of jeans or wear them with a fancy dress to add a girlish or female..',\n",
       "       'CELTIC KNOT LOCKET DESIGN - Celtic knots are endless paths and so represent eternity and never ending this can be in love, faith, loyalty, and friendship. Celtic knots with more than a single path interwoven, can be seen as metaphors for life, and are frequently referred to as -love knots\". This celtic knot circle locket you can put a photo or message memories into it.',\n",
       "       'GREAT AS A GIFT - This beautiful of celtic knot locket necklace in a pretty Black Velvet Pouch would be a perfect gift for that special someone in your life. Buy these pendant necklace for your wife, daughter, sister, or best friend, and know that without a doubt you have purchased the perfect present for the any occasion, whether it is for mother-s day, valentines-day, Christmas, graduation or their birthday.'],\n",
       "      dtype=object)"
      ]
     },
     "execution_count": 26,
     "metadata": {},
     "output_type": "execute_result"
    }
   ],
   "source": [
    "data['features'].iloc[0]"
   ]
  },
  {
   "cell_type": "markdown",
   "metadata": {},
   "source": [
    "See if we can make a proxy network variable using USER_ID"
   ]
  },
  {
   "cell_type": "code",
   "execution_count": 60,
   "metadata": {},
   "outputs": [
    {
     "name": "stdout",
     "output_type": "stream",
     "text": [
      "31664\n",
      "30092\n"
     ]
    }
   ],
   "source": [
    "ids = []\n",
    "for i in range(1000):\n",
    "    ids += list(data['user_id'].iloc[i])\n",
    "\n",
    "print(len(ids))\n",
    "print(len(set(ids)))"
   ]
  },
  {
   "cell_type": "markdown",
   "metadata": {},
   "source": [
    "<font color=\"salmon\"> We see that from the first 1000 products, there ARE users who have left reviews for more than one product. But there are not many of them. But enough to perhaps make a graph out of it!"
   ]
  },
  {
   "cell_type": "markdown",
   "metadata": {},
   "source": [
    "Check timestamp variable - this is a UNIX date-time object that can be converted to pythonic datetime variable"
   ]
  },
  {
   "cell_type": "code",
   "execution_count": 63,
   "metadata": {},
   "outputs": [
    {
     "name": "stdout",
     "output_type": "stream",
     "text": [
      "Current date and time: 2024-05-16 18:21:25.368579\n"
     ]
    }
   ],
   "source": [
    "from datetime import datetime\n",
    "\n",
    "# Get the current date and time\n",
    "current_datetime = datetime.now()\n",
    "\n",
    "# Print the current date and time\n",
    "print(\"Current date and time:\", current_datetime)"
   ]
  },
  {
   "cell_type": "code",
   "execution_count": 64,
   "metadata": {},
   "outputs": [
    {
     "data": {
      "text/plain": [
       "datetime.datetime"
      ]
     },
     "execution_count": 64,
     "metadata": {},
     "output_type": "execute_result"
    }
   ],
   "source": [
    "type(current_datetime)"
   ]
  },
  {
   "cell_type": "markdown",
   "metadata": {},
   "source": [
    "### Modify data - create new datafiles\n",
    "* Change datatype\n",
    "* Remove unneeded features\n",
    "* Construct more useful aggregate measures\n",
    "* Concatenate lists of strings\n",
    "* Use verified purchases only\n",
    "* Reformat & engineer more useful features from original ones"
   ]
  },
  {
   "cell_type": "code",
   "execution_count": 2,
   "metadata": {},
   "outputs": [
    {
     "data": {
      "text/plain": [
       "2500939"
      ]
     },
     "execution_count": 2,
     "metadata": {},
     "output_type": "execute_result"
    }
   ],
   "source": [
    "filepath = '/Users/ez/Downloads/Amazon_Fashion.jsonl'\n",
    "\n",
    "# # Read some\n",
    "# with open(filepath, 'r') as f:\n",
    "#     reviews = []\n",
    "#     # Read and parse the first 10,000 lines as JSON data\n",
    "#     for _ in range(100000):\n",
    "#         line = f.readline()\n",
    "#         if line:\n",
    "#             try:\n",
    "#                 reviews.append(json.loads(line))\n",
    "#             except json.JSONDecodeError:\n",
    "#                 # Handle malformed JSON lines, if any\n",
    "#                 pass\n",
    "\n",
    "# Read all\n",
    "with open(filepath, 'r') as f:\n",
    "    reviews = []\n",
    "    for line in f:\n",
    "        try:\n",
    "            reviews.append(json.loads(line))\n",
    "        except ValueError:\n",
    "            pass\n",
    "\n",
    "len(reviews)"
   ]
  },
  {
   "cell_type": "code",
   "execution_count": 3,
   "metadata": {},
   "outputs": [
    {
     "data": {
      "text/plain": [
       "826108"
      ]
     },
     "execution_count": 3,
     "metadata": {},
     "output_type": "execute_result"
    }
   ],
   "source": [
    "filepath = '/Users/ez/Downloads/meta_Amazon_Fashion.jsonl'\n",
    "\n",
    "# # Read some\n",
    "# with open(filepath, 'r') as f:\n",
    "#     meta = []\n",
    "#     # Read and parse the first 10,000 lines as JSON data\n",
    "#     for _ in range(100000):\n",
    "#         line = f.readline()\n",
    "#         if line:\n",
    "#             try:\n",
    "#                 meta.append(json.loads(line))\n",
    "#             except json.JSONDecodeError:\n",
    "#                 # Handle malformed JSON lines, if any\n",
    "#                 pass\n",
    "\n",
    "# Read all\n",
    "with open(filepath, 'r') as f:\n",
    "    meta = []\n",
    "    for line in f:\n",
    "        try:\n",
    "            meta.append(json.loads(line))\n",
    "        except ValueError:\n",
    "            pass\n",
    "\n",
    "len(meta)"
   ]
  },
  {
   "cell_type": "code",
   "execution_count": 4,
   "metadata": {},
   "outputs": [],
   "source": [
    "meta = pd.DataFrame(meta)\n",
    "reviews = pd.DataFrame(reviews)"
   ]
  },
  {
   "cell_type": "markdown",
   "metadata": {},
   "source": [
    "#### Start revising features - separately "
   ]
  },
  {
   "cell_type": "code",
   "execution_count": 5,
   "metadata": {},
   "outputs": [],
   "source": [
    "# Drop features from META \n",
    "meta = meta.drop(columns=['main_category', 'videos', 'categories', 'bought_together'])\n",
    "\n",
    "# Drop features from REVIEWS\n",
    "reviews = reviews.drop(columns=['asin'])"
   ]
  },
  {
   "cell_type": "code",
   "execution_count": 6,
   "metadata": {},
   "outputs": [
    {
     "name": "stdout",
     "output_type": "stream",
     "text": [
      "length reviews before 2500939\n",
      "length reviews after 2337702\n"
     ]
    }
   ],
   "source": [
    "# REVIEWS: Drop rows where VERIFIED_PURCHASE == False\n",
    "print('length reviews before', len(reviews))\n",
    "reviews = reviews[reviews['verified_purchase'] == True]\n",
    "print('length reviews after', len(reviews))"
   ]
  },
  {
   "cell_type": "code",
   "execution_count": 7,
   "metadata": {},
   "outputs": [],
   "source": [
    "# REVIEWS: Drop verified_rows col\n",
    "reviews = reviews.drop(columns=['verified_purchase'])"
   ]
  },
  {
   "cell_type": "code",
   "execution_count": 9,
   "metadata": {},
   "outputs": [],
   "source": [
    "# META: FEATURES (list of str)\n",
    "## Merge all strings in list together\n",
    "## Take out str from list \n",
    "## Return STR\n",
    "\n",
    "def merge_convert_to_str(lst):\n",
    "    \"\"\"\n",
    "    Transforms a list of strings to one long string object.\n",
    "    \"\"\"\n",
    "    output = ''.join(lst)\n",
    "    return output"
   ]
  },
  {
   "cell_type": "code",
   "execution_count": 10,
   "metadata": {},
   "outputs": [],
   "source": [
    "meta['features'] = meta['features'].apply(lambda x: merge_convert_to_str(x))"
   ]
  },
  {
   "cell_type": "code",
   "execution_count": 11,
   "metadata": {},
   "outputs": [],
   "source": [
    "# META: DESCRIPTION (list of str)\n",
    "## Take out str from list\n",
    "def take_str_out_lst(lst):\n",
    "    \"\"\"\n",
    "    From a list containing a single string, converts object to string (by taking\n",
    "    it out).\n",
    "    \"\"\"\n",
    "    if len(lst) != 0:\n",
    "        return lst[0]\n",
    "    else:\n",
    "        return None"
   ]
  },
  {
   "cell_type": "code",
   "execution_count": 12,
   "metadata": {},
   "outputs": [],
   "source": [
    "meta['description'] = meta['description'].apply(lambda x: take_str_out_lst(x))"
   ]
  },
  {
   "cell_type": "code",
   "execution_count": 13,
   "metadata": {},
   "outputs": [
    {
     "name": "stdout",
     "output_type": "stream",
     "text": [
      "none count: 766819\n",
      "number of products: 826108\n",
      "number of products that have descriptions: 59289\n"
     ]
    }
   ],
   "source": [
    "print('none count:', meta['description'].isna().sum())\n",
    "print('number of products:', len(meta))\n",
    "print('number of products that have descriptions:', (len(meta) - meta['description'].isna().sum()))"
   ]
  },
  {
   "cell_type": "markdown",
   "metadata": {},
   "source": [
    "<font color=\"salmon\"> Only 59,289 products out of 826,000+ have descriptions."
   ]
  },
  {
   "cell_type": "code",
   "execution_count": 14,
   "metadata": {},
   "outputs": [
    {
     "data": {
      "text/plain": [
       "{'Is Discontinued By Manufacturer': 'No',\n",
       " 'Product Dimensions': '12 x 9 x 5 inches; 12 Ounces',\n",
       " 'Item model number': '833989 401',\n",
       " 'Department': 'girls',\n",
       " 'Date First Available': 'June 23, 2016'}"
      ]
     },
     "execution_count": 14,
     "metadata": {},
     "output_type": "execute_result"
    }
   ],
   "source": [
    "meta['details'].iloc[150]"
   ]
  },
  {
   "cell_type": "markdown",
   "metadata": {},
   "source": [
    "<font color=\"salmon\"> We can use `details` feature to check for additional info like `Date First Available`, `Department`.\n",
    "\n",
    "<br>\n",
    "\n",
    "These could be used in in a graph. \n",
    "\n",
    "`Date First Available` - do reviews change over time\n",
    "\n",
    "`Department` - could serve as nodes or edges, helps determine traffic to particular departments"
   ]
  },
  {
   "cell_type": "code",
   "execution_count": 15,
   "metadata": {},
   "outputs": [],
   "source": [
    "# REVIEWS - TIMESTAMP (convert from unix to datetime.datetime)\n",
    "from datetime import datetime\n",
    "\n",
    "def unix_to_datetime(unix_timestamp_ms):\n",
    "    \"\"\"\n",
    "    Converts a Unix timestamp to month-day-year format.\n",
    "    \"\"\"\n",
    "    # Convert milliseconds to seconds\n",
    "    timestamp_s = unix_timestamp_ms / 1000 \n",
    "\n",
    "    # Retrieve full datetime object\n",
    "    dt_object = datetime.utcfromtimestamp(timestamp_s).strftime('%Y-%m-%d %H:%M:%S')\n",
    "\n",
    "    # Parse the string into a datetime object\n",
    "    dt_object = datetime.strptime(dt_object, '%Y-%m-%d %H:%M:%S')\n",
    "\n",
    "    # Format the datetime object as year-month-date\n",
    "    year_month_date = dt_object.strftime('%Y-%m-%d') \n",
    "\n",
    "    return year_month_date  "
   ]
  },
  {
   "cell_type": "code",
   "execution_count": 16,
   "metadata": {},
   "outputs": [],
   "source": [
    "reviews['timestamp'] = reviews['timestamp'].apply(lambda x: unix_to_datetime(x))"
   ]
  },
  {
   "cell_type": "code",
   "execution_count": 17,
   "metadata": {},
   "outputs": [],
   "source": [
    "# REVIEWS: HELPFUL_VOTE \n",
    "## Create log-weighted text review\n",
    "## The idea = repeat a string the log-weighted number of times to represent \n",
    "\n",
    "import math\n",
    "\n",
    "def square_root_weights(vote):\n",
    "    \"\"\"\n",
    "    Apply square root weighting to a list of votes.\n",
    "    \"\"\"\n",
    "    weighted_vote = int(math.sqrt(vote))\n",
    "    return weighted_vote"
   ]
  },
  {
   "cell_type": "code",
   "execution_count": 18,
   "metadata": {},
   "outputs": [],
   "source": [
    "reviews['helpful_vote_weighted'] = reviews['helpful_vote'].apply(lambda x: square_root_weights(x))"
   ]
  },
  {
   "cell_type": "code",
   "execution_count": 19,
   "metadata": {},
   "outputs": [],
   "source": [
    "# REVIEWS: Create weighted text\n",
    "def duplicate_and_concatenate(text, num_duplications):\n",
    "    \"\"\"\n",
    "    Duplicate the text and concatenate it with the original text,\n",
    "    separating each new iteration of text with a space.\n",
    "    \"\"\"\n",
    "    duplicated_text = ' '.join(text for _ in range(num_duplications))\n",
    "    return text + ' ' + duplicated_text"
   ]
  },
  {
   "cell_type": "code",
   "execution_count": 20,
   "metadata": {},
   "outputs": [],
   "source": [
    "reviews['text_weighted'] = reviews.apply(lambda row: \n",
    "                            duplicate_and_concatenate(row['text'], \n",
    "                            row['helpful_vote_weighted']), axis=1)"
   ]
  },
  {
   "cell_type": "code",
   "execution_count": 21,
   "metadata": {},
   "outputs": [
    {
     "data": {
      "text/html": [
       "<div>\n",
       "<style scoped>\n",
       "    .dataframe tbody tr th:only-of-type {\n",
       "        vertical-align: middle;\n",
       "    }\n",
       "\n",
       "    .dataframe tbody tr th {\n",
       "        vertical-align: top;\n",
       "    }\n",
       "\n",
       "    .dataframe thead th {\n",
       "        text-align: right;\n",
       "    }\n",
       "</style>\n",
       "<table border=\"1\" class=\"dataframe\">\n",
       "  <thead>\n",
       "    <tr style=\"text-align: right;\">\n",
       "      <th></th>\n",
       "      <th>rating</th>\n",
       "      <th>title</th>\n",
       "      <th>text</th>\n",
       "      <th>images</th>\n",
       "      <th>parent_asin</th>\n",
       "      <th>user_id</th>\n",
       "      <th>timestamp</th>\n",
       "      <th>helpful_vote</th>\n",
       "      <th>helpful_vote_weighted</th>\n",
       "      <th>text_weighted</th>\n",
       "    </tr>\n",
       "  </thead>\n",
       "  <tbody>\n",
       "    <tr>\n",
       "      <th>0</th>\n",
       "      <td>5.0</td>\n",
       "      <td>Pretty locket</td>\n",
       "      <td>I think this locket is really pretty. The insi...</td>\n",
       "      <td>[]</td>\n",
       "      <td>B00LOPVX74</td>\n",
       "      <td>AGBFYI2DDIKXC5Y4FARTYDTQBMFQ</td>\n",
       "      <td>2020-01-09</td>\n",
       "      <td>3</td>\n",
       "      <td>1</td>\n",
       "      <td>I think this locket is really pretty. The insi...</td>\n",
       "    </tr>\n",
       "    <tr>\n",
       "      <th>1</th>\n",
       "      <td>5.0</td>\n",
       "      <td>A</td>\n",
       "      <td>Great</td>\n",
       "      <td>[]</td>\n",
       "      <td>B07B4JXK8D</td>\n",
       "      <td>AFQLNQNQYFWQZPJQZS6V3NZU4QBQ</td>\n",
       "      <td>2020-12-20</td>\n",
       "      <td>0</td>\n",
       "      <td>0</td>\n",
       "      <td>Great</td>\n",
       "    </tr>\n",
       "    <tr>\n",
       "      <th>2</th>\n",
       "      <td>2.0</td>\n",
       "      <td>Two Stars</td>\n",
       "      <td>One of the stones fell out within the first 2 ...</td>\n",
       "      <td>[]</td>\n",
       "      <td>B007ZSEQ4Q</td>\n",
       "      <td>AHITBJSS7KYUBVZPX7M2WJCOIVKQ</td>\n",
       "      <td>2015-05-23</td>\n",
       "      <td>3</td>\n",
       "      <td>1</td>\n",
       "      <td>One of the stones fell out within the first 2 ...</td>\n",
       "    </tr>\n",
       "    <tr>\n",
       "      <th>3</th>\n",
       "      <td>1.0</td>\n",
       "      <td>Won’t buy again</td>\n",
       "      <td>Crappy socks. Money wasted. Bought to wear wit...</td>\n",
       "      <td>[]</td>\n",
       "      <td>B07F2BTFS9</td>\n",
       "      <td>AFVNEEPDEIH5SPUN5BWC6NKL3WNQ</td>\n",
       "      <td>2018-12-31</td>\n",
       "      <td>2</td>\n",
       "      <td>1</td>\n",
       "      <td>Crappy socks. Money wasted. Bought to wear wit...</td>\n",
       "    </tr>\n",
       "    <tr>\n",
       "      <th>4</th>\n",
       "      <td>5.0</td>\n",
       "      <td>I LOVE these glasses</td>\n",
       "      <td>I LOVE these glasses!  They fit perfectly over...</td>\n",
       "      <td>[]</td>\n",
       "      <td>B00XESJTDE</td>\n",
       "      <td>AHSPLDNW5OOUK2PLH7GXLACFBZNQ</td>\n",
       "      <td>2015-08-13</td>\n",
       "      <td>0</td>\n",
       "      <td>0</td>\n",
       "      <td>I LOVE these glasses!  They fit perfectly over...</td>\n",
       "    </tr>\n",
       "  </tbody>\n",
       "</table>\n",
       "</div>"
      ],
      "text/plain": [
       "   rating                 title  \\\n",
       "0     5.0         Pretty locket   \n",
       "1     5.0                     A   \n",
       "2     2.0             Two Stars   \n",
       "3     1.0       Won’t buy again   \n",
       "4     5.0  I LOVE these glasses   \n",
       "\n",
       "                                                text images parent_asin  \\\n",
       "0  I think this locket is really pretty. The insi...     []  B00LOPVX74   \n",
       "1                                              Great     []  B07B4JXK8D   \n",
       "2  One of the stones fell out within the first 2 ...     []  B007ZSEQ4Q   \n",
       "3  Crappy socks. Money wasted. Bought to wear wit...     []  B07F2BTFS9   \n",
       "4  I LOVE these glasses!  They fit perfectly over...     []  B00XESJTDE   \n",
       "\n",
       "                        user_id   timestamp  helpful_vote  \\\n",
       "0  AGBFYI2DDIKXC5Y4FARTYDTQBMFQ  2020-01-09             3   \n",
       "1  AFQLNQNQYFWQZPJQZS6V3NZU4QBQ  2020-12-20             0   \n",
       "2  AHITBJSS7KYUBVZPX7M2WJCOIVKQ  2015-05-23             3   \n",
       "3  AFVNEEPDEIH5SPUN5BWC6NKL3WNQ  2018-12-31             2   \n",
       "4  AHSPLDNW5OOUK2PLH7GXLACFBZNQ  2015-08-13             0   \n",
       "\n",
       "   helpful_vote_weighted                                      text_weighted  \n",
       "0                      1  I think this locket is really pretty. The insi...  \n",
       "1                      0                                             Great   \n",
       "2                      1  One of the stones fell out within the first 2 ...  \n",
       "3                      1  Crappy socks. Money wasted. Bought to wear wit...  \n",
       "4                      0  I LOVE these glasses!  They fit perfectly over...  "
      ]
     },
     "execution_count": 21,
     "metadata": {},
     "output_type": "execute_result"
    }
   ],
   "source": [
    "reviews.head()"
   ]
  },
  {
   "cell_type": "code",
   "execution_count": 22,
   "metadata": {},
   "outputs": [
    {
     "data": {
      "text/html": [
       "<div>\n",
       "<style scoped>\n",
       "    .dataframe tbody tr th:only-of-type {\n",
       "        vertical-align: middle;\n",
       "    }\n",
       "\n",
       "    .dataframe tbody tr th {\n",
       "        vertical-align: top;\n",
       "    }\n",
       "\n",
       "    .dataframe thead th {\n",
       "        text-align: right;\n",
       "    }\n",
       "</style>\n",
       "<table border=\"1\" class=\"dataframe\">\n",
       "  <thead>\n",
       "    <tr style=\"text-align: right;\">\n",
       "      <th></th>\n",
       "      <th>title</th>\n",
       "      <th>average_rating</th>\n",
       "      <th>rating_number</th>\n",
       "      <th>features</th>\n",
       "      <th>description</th>\n",
       "      <th>price</th>\n",
       "      <th>images</th>\n",
       "      <th>store</th>\n",
       "      <th>details</th>\n",
       "      <th>parent_asin</th>\n",
       "    </tr>\n",
       "  </thead>\n",
       "  <tbody>\n",
       "    <tr>\n",
       "      <th>0</th>\n",
       "      <td>YUEDGE 5 Pairs Men's Moisture Control Cushione...</td>\n",
       "      <td>4.6</td>\n",
       "      <td>16</td>\n",
       "      <td></td>\n",
       "      <td>None</td>\n",
       "      <td>NaN</td>\n",
       "      <td>[{'thumb': 'https://m.media-amazon.com/images/...</td>\n",
       "      <td>GiveGift</td>\n",
       "      <td>{'Package Dimensions': '10.31 x 8.5 x 1.73 inc...</td>\n",
       "      <td>B08BHN9PK5</td>\n",
       "    </tr>\n",
       "    <tr>\n",
       "      <th>1</th>\n",
       "      <td>DouBCQ Women's Palazzo Lounge Wide Leg Casual ...</td>\n",
       "      <td>4.1</td>\n",
       "      <td>7</td>\n",
       "      <td>Drawstring closureMachine Wash</td>\n",
       "      <td>None</td>\n",
       "      <td>NaN</td>\n",
       "      <td>[{'thumb': 'https://m.media-amazon.com/images/...</td>\n",
       "      <td>DouBCQ</td>\n",
       "      <td>{'Package Dimensions': '15 x 10.2 x 0.4 inches...</td>\n",
       "      <td>B08R39MRDW</td>\n",
       "    </tr>\n",
       "    <tr>\n",
       "      <th>2</th>\n",
       "      <td>Pastel by Vivienne Honey Vanilla Girls' Trapez...</td>\n",
       "      <td>4.3</td>\n",
       "      <td>11</td>\n",
       "      <td>Zipper closureHand Wash Only</td>\n",
       "      <td>None</td>\n",
       "      <td>NaN</td>\n",
       "      <td>[{'thumb': 'https://m.media-amazon.com/images/...</td>\n",
       "      <td>Pastel by Vivienne</td>\n",
       "      <td>{'Is Discontinued By Manufacturer': 'No', 'Pac...</td>\n",
       "      <td>B077KJHCJ4</td>\n",
       "    </tr>\n",
       "    <tr>\n",
       "      <th>3</th>\n",
       "      <td>Mento Streamtail</td>\n",
       "      <td>2.0</td>\n",
       "      <td>1</td>\n",
       "      <td>Thermoplastic Rubber soleHigh Density Premium ...</td>\n",
       "      <td>Slip on the Women's Mento and you're ready to ...</td>\n",
       "      <td>29.81</td>\n",
       "      <td>[{'thumb': 'https://m.media-amazon.com/images/...</td>\n",
       "      <td>Guy Harvey</td>\n",
       "      <td>{'Package Dimensions': '11.22 x 4.72 x 4.33 in...</td>\n",
       "      <td>B0811M2JG9</td>\n",
       "    </tr>\n",
       "    <tr>\n",
       "      <th>4</th>\n",
       "      <td>RONNOX Women's 3-Pairs Bright Colored Calf Com...</td>\n",
       "      <td>4.3</td>\n",
       "      <td>3032</td>\n",
       "      <td>Pull On closureSize Guide: \"S\" fits calf 10-12...</td>\n",
       "      <td>Ronnox Calf Sleeves - Allowing Your Body to Pe...</td>\n",
       "      <td>17.99</td>\n",
       "      <td>[{'thumb': 'https://m.media-amazon.com/images/...</td>\n",
       "      <td>RONNOX</td>\n",
       "      <td>{'Is Discontinued By Manufacturer': 'No', 'Pac...</td>\n",
       "      <td>B07SB2892S</td>\n",
       "    </tr>\n",
       "  </tbody>\n",
       "</table>\n",
       "</div>"
      ],
      "text/plain": [
       "                                               title  average_rating  \\\n",
       "0  YUEDGE 5 Pairs Men's Moisture Control Cushione...             4.6   \n",
       "1  DouBCQ Women's Palazzo Lounge Wide Leg Casual ...             4.1   \n",
       "2  Pastel by Vivienne Honey Vanilla Girls' Trapez...             4.3   \n",
       "3                                   Mento Streamtail             2.0   \n",
       "4  RONNOX Women's 3-Pairs Bright Colored Calf Com...             4.3   \n",
       "\n",
       "   rating_number                                           features  \\\n",
       "0             16                                                      \n",
       "1              7                     Drawstring closureMachine Wash   \n",
       "2             11                       Zipper closureHand Wash Only   \n",
       "3              1  Thermoplastic Rubber soleHigh Density Premium ...   \n",
       "4           3032  Pull On closureSize Guide: \"S\" fits calf 10-12...   \n",
       "\n",
       "                                         description  price  \\\n",
       "0                                               None    NaN   \n",
       "1                                               None    NaN   \n",
       "2                                               None    NaN   \n",
       "3  Slip on the Women's Mento and you're ready to ...  29.81   \n",
       "4  Ronnox Calf Sleeves - Allowing Your Body to Pe...  17.99   \n",
       "\n",
       "                                              images               store  \\\n",
       "0  [{'thumb': 'https://m.media-amazon.com/images/...            GiveGift   \n",
       "1  [{'thumb': 'https://m.media-amazon.com/images/...              DouBCQ   \n",
       "2  [{'thumb': 'https://m.media-amazon.com/images/...  Pastel by Vivienne   \n",
       "3  [{'thumb': 'https://m.media-amazon.com/images/...          Guy Harvey   \n",
       "4  [{'thumb': 'https://m.media-amazon.com/images/...              RONNOX   \n",
       "\n",
       "                                             details parent_asin  \n",
       "0  {'Package Dimensions': '10.31 x 8.5 x 1.73 inc...  B08BHN9PK5  \n",
       "1  {'Package Dimensions': '15 x 10.2 x 0.4 inches...  B08R39MRDW  \n",
       "2  {'Is Discontinued By Manufacturer': 'No', 'Pac...  B077KJHCJ4  \n",
       "3  {'Package Dimensions': '11.22 x 4.72 x 4.33 in...  B0811M2JG9  \n",
       "4  {'Is Discontinued By Manufacturer': 'No', 'Pac...  B07SB2892S  "
      ]
     },
     "execution_count": 22,
     "metadata": {},
     "output_type": "execute_result"
    }
   ],
   "source": [
    "meta.head()"
   ]
  },
  {
   "cell_type": "markdown",
   "metadata": {},
   "source": [
    "\"None\" in `description` = Nonetype\n",
    "\n",
    "\"NaN\" in `price` = float64"
   ]
  },
  {
   "cell_type": "code",
   "execution_count": 23,
   "metadata": {},
   "outputs": [],
   "source": [
    "# EXPORT original datasets, separately\n",
    "\n",
    "# meta.to_parquet('meta_modified_051624.parquet', index=False)\n",
    "# reviews.to_parquet('reviews_modified_051624.parquet', index=False)"
   ]
  },
  {
   "cell_type": "markdown",
   "metadata": {},
   "source": [
    "### MERGE AGAIN\n",
    "\n",
    "* Do merge first\n",
    "* Check DETAILS dictionaries\n",
    "* Construct aggregate features"
   ]
  },
  {
   "cell_type": "code",
   "execution_count": 2,
   "metadata": {},
   "outputs": [],
   "source": [
    "# Import data\n",
    "# reviews = pd.read_parquet('reviews_modified_051624.parquet')\n",
    "# meta = pd.read_parquet('meta_modified_051624.parquet')"
   ]
  },
  {
   "cell_type": "code",
   "execution_count": 3,
   "metadata": {},
   "outputs": [],
   "source": [
    "# Drop original helpful_vote and helpful_vote_weighted before merge - don't need\n",
    "reviews = reviews.drop(columns=['helpful_vote'])\n",
    "reviews = reviews.drop(columns=['helpful_vote_weighted'])"
   ]
  },
  {
   "cell_type": "code",
   "execution_count": 4,
   "metadata": {},
   "outputs": [
    {
     "name": "stdout",
     "output_type": "stream",
     "text": [
      "(2337702, 8)\n",
      "(826108, 10)\n"
     ]
    }
   ],
   "source": [
    "print(reviews.shape)\n",
    "print(meta.shape)"
   ]
  },
  {
   "cell_type": "markdown",
   "metadata": {},
   "source": [
    "#### DO MERGE"
   ]
  },
  {
   "cell_type": "code",
   "execution_count": 5,
   "metadata": {},
   "outputs": [],
   "source": [
    "# Rename reviews title & images\n",
    "reviews.rename(columns={\"title\": \"title_review\", \"images\": \"images_review\"}, inplace=True)"
   ]
  },
  {
   "cell_type": "code",
   "execution_count": 6,
   "metadata": {},
   "outputs": [],
   "source": [
    "# Merge\n",
    "merged_data = pd.merge(meta, reviews, left_on='parent_asin', right_on='parent_asin', how='right')"
   ]
  },
  {
   "cell_type": "code",
   "execution_count": 7,
   "metadata": {},
   "outputs": [
    {
     "data": {
      "text/plain": [
       "(2337702, 17)"
      ]
     },
     "execution_count": 7,
     "metadata": {},
     "output_type": "execute_result"
    }
   ],
   "source": [
    "merged_data.shape # One row per REVIEW, still need to aggregate/group"
   ]
  },
  {
   "cell_type": "markdown",
   "metadata": {},
   "source": [
    "Use DASK to parallelize grouping and other aggregate tasks"
   ]
  },
  {
   "cell_type": "code",
   "execution_count": 11,
   "metadata": {},
   "outputs": [],
   "source": [
    "import dask.dataframe as dd\n",
    "merged_data_dask = dd.from_pandas(merged_data, npartitions=4)"
   ]
  },
  {
   "cell_type": "code",
   "execution_count": 12,
   "metadata": {},
   "outputs": [
    {
     "data": {
      "text/plain": [
       "['rating',\n",
       " 'title_review',\n",
       " 'text',\n",
       " 'images_review',\n",
       " 'user_id',\n",
       " 'timestamp',\n",
       " 'text_weighted']"
      ]
     },
     "execution_count": 12,
     "metadata": {},
     "output_type": "execute_result"
    }
   ],
   "source": [
    "# Prep for aggregation\n",
    "## Drop PARENT_ASIN, otherwise duplicated\n",
    "## \n",
    "reviews.drop(columns=['parent_asin'], inplace=True)\n",
    "\n",
    "# Which columns do we want to aggregate?\n",
    "aggregate_columns = list(reviews.columns)\n",
    "aggregate_columns"
   ]
  },
  {
   "cell_type": "code",
   "execution_count": 13,
   "metadata": {},
   "outputs": [],
   "source": [
    "# Perform groupby and aggregation of cols to list using Dask df\n",
    "aggregated_reviews_dask = merged_data_dask.groupby('parent_asin')[aggregate_columns].agg(list).reset_index()"
   ]
  },
  {
   "cell_type": "code",
   "execution_count": 14,
   "metadata": {},
   "outputs": [],
   "source": [
    "# Convert Dask DF back to Pandas DF\n",
    "aggregated_reviews = aggregated_reviews_dask.compute()"
   ]
  },
  {
   "cell_type": "code",
   "execution_count": 15,
   "metadata": {},
   "outputs": [
    {
     "data": {
      "text/plain": [
       "(776976, 8)"
      ]
     },
     "execution_count": 15,
     "metadata": {},
     "output_type": "execute_result"
    }
   ],
   "source": [
    "aggregated_reviews.shape"
   ]
  },
  {
   "cell_type": "code",
   "execution_count": 68,
   "metadata": {},
   "outputs": [],
   "source": [
    "# Save\n",
    "# aggregated_reviews.to_parquet('aggregated_reviews_unclean_051624.parquet', index=False)"
   ]
  },
  {
   "cell_type": "code",
   "execution_count": 16,
   "metadata": {},
   "outputs": [
    {
     "name": "stdout",
     "output_type": "stream",
     "text": [
      "(776976, 8)\n",
      "(826108, 10)\n",
      "(2337702, 7)\n"
     ]
    }
   ],
   "source": [
    "print(aggregated_reviews.shape) # should be equal to meta shape?\n",
    "print(meta.shape)\n",
    "print(reviews.shape)"
   ]
  },
  {
   "cell_type": "code",
   "execution_count": 18,
   "metadata": {},
   "outputs": [
    {
     "name": "stdout",
     "output_type": "stream",
     "text": [
      "163237\n"
     ]
    }
   ],
   "source": [
    "print(2500939-2337702)"
   ]
  },
  {
   "cell_type": "markdown",
   "metadata": {},
   "source": [
    "<font color=\"salmon\"> There's some 40,000 rows missing. I think this is because after dropping the 163237 unverified reviews, many of these reviews were solitary reviews for 30,000+ products. Since there are no reviews for these products, they were dropped from the aggregated table."
   ]
  },
  {
   "cell_type": "code",
   "execution_count": 19,
   "metadata": {},
   "outputs": [],
   "source": [
    "# Calculate average_rating_reviewers\n",
    "def average_of_list(lst):\n",
    "    \"\"\"\n",
    "    Calculate the average of a list of values.\n",
    "    \"\"\"\n",
    "    if lst:\n",
    "        avg = sum(lst) / len(lst)\n",
    "        return round(avg, 2)\n",
    "    else: return None"
   ]
  },
  {
   "cell_type": "code",
   "execution_count": 20,
   "metadata": {},
   "outputs": [],
   "source": [
    "# Apply the custom function to each row in the 'values' column\n",
    "aggregated_reviews['avg_rating_reviewers'] = aggregated_reviews['rating'].apply(average_of_list)"
   ]
  },
  {
   "cell_type": "code",
   "execution_count": 21,
   "metadata": {},
   "outputs": [],
   "source": [
    "# Calculate coefficient of variation\n",
    "import numpy as np\n",
    "\n",
    "def coeff_of_var(lst):\n",
    "    \"\"\"\n",
    "    Calculate coefficient of variation to measure spread of rating values.\n",
    "    \"\"\"\n",
    "    if lst:\n",
    "        mean = np.mean(lst)\n",
    "        std_dev = np.std(lst)\n",
    "        coeff_var = std_dev / mean\n",
    "        return round(coeff_var, 2)\n",
    "    else: return None"
   ]
  },
  {
   "cell_type": "code",
   "execution_count": 22,
   "metadata": {},
   "outputs": [],
   "source": [
    "aggregated_reviews['coefvar_rating_reviewers'] = aggregated_reviews['rating'].apply(coeff_of_var)"
   ]
  },
  {
   "cell_type": "code",
   "execution_count": 23,
   "metadata": {},
   "outputs": [
    {
     "data": {
      "text/html": [
       "<div>\n",
       "<style scoped>\n",
       "    .dataframe tbody tr th:only-of-type {\n",
       "        vertical-align: middle;\n",
       "    }\n",
       "\n",
       "    .dataframe tbody tr th {\n",
       "        vertical-align: top;\n",
       "    }\n",
       "\n",
       "    .dataframe thead th {\n",
       "        text-align: right;\n",
       "    }\n",
       "</style>\n",
       "<table border=\"1\" class=\"dataframe\">\n",
       "  <thead>\n",
       "    <tr style=\"text-align: right;\">\n",
       "      <th></th>\n",
       "      <th>parent_asin</th>\n",
       "      <th>rating</th>\n",
       "      <th>title_review</th>\n",
       "      <th>text</th>\n",
       "      <th>images_review</th>\n",
       "      <th>user_id</th>\n",
       "      <th>timestamp</th>\n",
       "      <th>text_weighted</th>\n",
       "      <th>avg_rating_reviewers</th>\n",
       "      <th>coefvar_rating_reviewers</th>\n",
       "    </tr>\n",
       "  </thead>\n",
       "  <tbody>\n",
       "    <tr>\n",
       "      <th>0</th>\n",
       "      <td>B00LOPVX74</td>\n",
       "      <td>[5.0, 5.0, 2.0, 5.0, 5.0, 3.0, 1.0, 5.0, 5.0, ...</td>\n",
       "      <td>[Pretty locket, Great gift for my wife, OK.......</td>\n",
       "      <td>[I think this locket is really pretty. The ins...</td>\n",
       "      <td>[[], [], [], [], [], [], [], [], [], [], [], [...</td>\n",
       "      <td>[AGBFYI2DDIKXC5Y4FARTYDTQBMFQ, AGQIISDDHDYLF2P...</td>\n",
       "      <td>[2020-01-09, 2019-09-28, 2018-11-29, 2017-01-0...</td>\n",
       "      <td>[I think this locket is really pretty. The ins...</td>\n",
       "      <td>4.25</td>\n",
       "      <td>0.29</td>\n",
       "    </tr>\n",
       "    <tr>\n",
       "      <th>1</th>\n",
       "      <td>B07B4JXK8D</td>\n",
       "      <td>[5.0, 1.0, 5.0, 2.0, 2.0, 5.0, 5.0, 5.0, 2.0, ...</td>\n",
       "      <td>[A, Cheaply made. Single wearing, PROVIDES SAF...</td>\n",
       "      <td>[Great, Very loosely made material. Stretched ...</td>\n",
       "      <td>[[], [], [], [], [], [], [], [], [], [], [], [...</td>\n",
       "      <td>[AFQLNQNQYFWQZPJQZS6V3NZU4QBQ, AE73VVEIEFN4NIM...</td>\n",
       "      <td>[2020-12-20, 2022-08-03, 2021-01-19, 2020-05-0...</td>\n",
       "      <td>[Great , Very loosely made material. Stretched...</td>\n",
       "      <td>3.92</td>\n",
       "      <td>0.38</td>\n",
       "    </tr>\n",
       "    <tr>\n",
       "      <th>2</th>\n",
       "      <td>B007ZSEQ4Q</td>\n",
       "      <td>[2.0, 1.0, 5.0, 5.0, 5.0, 1.0, 5.0, 5.0, 5.0, ...</td>\n",
       "      <td>[Two Stars, One Star, A perfect gift., Subtle,...</td>\n",
       "      <td>[One of the stones fell out within the first 2...</td>\n",
       "      <td>[[], [], [], [], [], [], [], [], [], [], [], [...</td>\n",
       "      <td>[AHITBJSS7KYUBVZPX7M2WJCOIVKQ, AHUYRZV7YZIEHPE...</td>\n",
       "      <td>[2015-05-23, 2016-09-15, 2014-04-27, 2013-10-1...</td>\n",
       "      <td>[One of the stones fell out within the first 2...</td>\n",
       "      <td>3.25</td>\n",
       "      <td>0.58</td>\n",
       "    </tr>\n",
       "    <tr>\n",
       "      <th>3</th>\n",
       "      <td>B07F2BTFS9</td>\n",
       "      <td>[1.0, 1.0, 5.0, 5.0, 5.0, 1.0, 3.0, 5.0, 5.0, ...</td>\n",
       "      <td>[Won’t buy again, Slips from the feet (update ...</td>\n",
       "      <td>[Crappy socks. Money wasted. Bought to wear wi...</td>\n",
       "      <td>[[], [], [], [], [], [], [], [], [], [], [], [...</td>\n",
       "      <td>[AFVNEEPDEIH5SPUN5BWC6NKL3WNQ, AH6MYAW6MC5CEA7...</td>\n",
       "      <td>[2018-12-31, 2019-07-30, 2019-02-04, 2019-10-2...</td>\n",
       "      <td>[Crappy socks. Money wasted. Bought to wear wi...</td>\n",
       "      <td>4.10</td>\n",
       "      <td>0.37</td>\n",
       "    </tr>\n",
       "    <tr>\n",
       "      <th>4</th>\n",
       "      <td>B00XESJTDE</td>\n",
       "      <td>[5.0, 3.0, 5.0, 5.0, 5.0, 3.0, 4.0, 3.0, 5.0, ...</td>\n",
       "      <td>[I LOVE these glasses, Great glass, but create...</td>\n",
       "      <td>[I LOVE these glasses!  They fit perfectly ove...</td>\n",
       "      <td>[[], [], [], [], [], [], [], [], [], [], [], [...</td>\n",
       "      <td>[AHSPLDNW5OOUK2PLH7GXLACFBZNQ, AH6PUGVRXGZ4YXX...</td>\n",
       "      <td>[2015-08-13, 2016-10-09, 2018-09-10, 2020-02-0...</td>\n",
       "      <td>[I LOVE these glasses!  They fit perfectly ove...</td>\n",
       "      <td>4.08</td>\n",
       "      <td>0.30</td>\n",
       "    </tr>\n",
       "  </tbody>\n",
       "</table>\n",
       "</div>"
      ],
      "text/plain": [
       "  parent_asin                                             rating  \\\n",
       "0  B00LOPVX74  [5.0, 5.0, 2.0, 5.0, 5.0, 3.0, 1.0, 5.0, 5.0, ...   \n",
       "1  B07B4JXK8D  [5.0, 1.0, 5.0, 2.0, 2.0, 5.0, 5.0, 5.0, 2.0, ...   \n",
       "2  B007ZSEQ4Q  [2.0, 1.0, 5.0, 5.0, 5.0, 1.0, 5.0, 5.0, 5.0, ...   \n",
       "3  B07F2BTFS9  [1.0, 1.0, 5.0, 5.0, 5.0, 1.0, 3.0, 5.0, 5.0, ...   \n",
       "4  B00XESJTDE  [5.0, 3.0, 5.0, 5.0, 5.0, 3.0, 4.0, 3.0, 5.0, ...   \n",
       "\n",
       "                                        title_review  \\\n",
       "0  [Pretty locket, Great gift for my wife, OK.......   \n",
       "1  [A, Cheaply made. Single wearing, PROVIDES SAF...   \n",
       "2  [Two Stars, One Star, A perfect gift., Subtle,...   \n",
       "3  [Won’t buy again, Slips from the feet (update ...   \n",
       "4  [I LOVE these glasses, Great glass, but create...   \n",
       "\n",
       "                                                text  \\\n",
       "0  [I think this locket is really pretty. The ins...   \n",
       "1  [Great, Very loosely made material. Stretched ...   \n",
       "2  [One of the stones fell out within the first 2...   \n",
       "3  [Crappy socks. Money wasted. Bought to wear wi...   \n",
       "4  [I LOVE these glasses!  They fit perfectly ove...   \n",
       "\n",
       "                                       images_review  \\\n",
       "0  [[], [], [], [], [], [], [], [], [], [], [], [...   \n",
       "1  [[], [], [], [], [], [], [], [], [], [], [], [...   \n",
       "2  [[], [], [], [], [], [], [], [], [], [], [], [...   \n",
       "3  [[], [], [], [], [], [], [], [], [], [], [], [...   \n",
       "4  [[], [], [], [], [], [], [], [], [], [], [], [...   \n",
       "\n",
       "                                             user_id  \\\n",
       "0  [AGBFYI2DDIKXC5Y4FARTYDTQBMFQ, AGQIISDDHDYLF2P...   \n",
       "1  [AFQLNQNQYFWQZPJQZS6V3NZU4QBQ, AE73VVEIEFN4NIM...   \n",
       "2  [AHITBJSS7KYUBVZPX7M2WJCOIVKQ, AHUYRZV7YZIEHPE...   \n",
       "3  [AFVNEEPDEIH5SPUN5BWC6NKL3WNQ, AH6MYAW6MC5CEA7...   \n",
       "4  [AHSPLDNW5OOUK2PLH7GXLACFBZNQ, AH6PUGVRXGZ4YXX...   \n",
       "\n",
       "                                           timestamp  \\\n",
       "0  [2020-01-09, 2019-09-28, 2018-11-29, 2017-01-0...   \n",
       "1  [2020-12-20, 2022-08-03, 2021-01-19, 2020-05-0...   \n",
       "2  [2015-05-23, 2016-09-15, 2014-04-27, 2013-10-1...   \n",
       "3  [2018-12-31, 2019-07-30, 2019-02-04, 2019-10-2...   \n",
       "4  [2015-08-13, 2016-10-09, 2018-09-10, 2020-02-0...   \n",
       "\n",
       "                                       text_weighted  avg_rating_reviewers  \\\n",
       "0  [I think this locket is really pretty. The ins...                  4.25   \n",
       "1  [Great , Very loosely made material. Stretched...                  3.92   \n",
       "2  [One of the stones fell out within the first 2...                  3.25   \n",
       "3  [Crappy socks. Money wasted. Bought to wear wi...                  4.10   \n",
       "4  [I LOVE these glasses!  They fit perfectly ove...                  4.08   \n",
       "\n",
       "   coefvar_rating_reviewers  \n",
       "0                      0.29  \n",
       "1                      0.38  \n",
       "2                      0.58  \n",
       "3                      0.37  \n",
       "4                      0.30  "
      ]
     },
     "execution_count": 23,
     "metadata": {},
     "output_type": "execute_result"
    }
   ],
   "source": [
    "aggregated_reviews.head()"
   ]
  },
  {
   "cell_type": "code",
   "execution_count": 24,
   "metadata": {},
   "outputs": [],
   "source": [
    "# Drop original rating column\n",
    "aggregated_reviews = aggregated_reviews.drop(columns=['rating'])"
   ]
  },
  {
   "cell_type": "code",
   "execution_count": 25,
   "metadata": {},
   "outputs": [],
   "source": [
    "# Concatenate strings in list to string\n",
    "\n",
    "# Use function from earlier:\n",
    "def merge_convert_to_str(lst):\n",
    "    \"\"\"\n",
    "    Transforms a list of strings to one long string object.\n",
    "    \"\"\"\n",
    "    output = ' '.join(lst)\n",
    "    return output"
   ]
  },
  {
   "cell_type": "code",
   "execution_count": 26,
   "metadata": {},
   "outputs": [],
   "source": [
    "aggregated_reviews['title_review_agg'] = aggregated_reviews['title_review'].apply(lambda x: merge_convert_to_str(x))"
   ]
  },
  {
   "cell_type": "code",
   "execution_count": null,
   "metadata": {},
   "outputs": [],
   "source": [
    "# Drop title_review\n",
    "aggregated_reviews['title_review'].drop(columns=['title_review'], inplace=True)"
   ]
  },
  {
   "cell_type": "code",
   "execution_count": 35,
   "metadata": {},
   "outputs": [],
   "source": [
    "# Aggregate TEXT feature too, using merge_convert_to_str\n",
    "aggregated_reviews['text_agg'] = aggregated_reviews['text'].apply(lambda x: merge_convert_to_str(x))"
   ]
  },
  {
   "cell_type": "code",
   "execution_count": 40,
   "metadata": {},
   "outputs": [],
   "source": [
    "# Drop\n",
    "aggregated_reviews = aggregated_reviews.drop(columns=['text'])"
   ]
  },
  {
   "cell_type": "code",
   "execution_count": 43,
   "metadata": {},
   "outputs": [],
   "source": [
    "# Aggregate weighted text\n",
    "aggregated_reviews['text_weighted_agg'] = aggregated_reviews['text_weighted'].apply(lambda x: merge_convert_to_str(x))\n",
    "\n",
    "# Drop og\n",
    "aggregated_reviews = aggregated_reviews.drop(columns=['text_weighted'])"
   ]
  },
  {
   "cell_type": "code",
   "execution_count": 51,
   "metadata": {},
   "outputs": [],
   "source": [
    "# Function to extract dictionaries from arrays - Written entirely by ChatGPT\n",
    "def extract_dicts_from_array(arr):\n",
    "    dicts = []\n",
    "    for sub_arr in arr:\n",
    "        if isinstance(sub_arr, np.ndarray) and sub_arr.dtype == object:\n",
    "            for item in sub_arr:\n",
    "                if isinstance(item, dict):\n",
    "                    dicts.append(item)\n",
    "    return dicts"
   ]
  },
  {
   "cell_type": "code",
   "execution_count": 52,
   "metadata": {},
   "outputs": [],
   "source": [
    "# Apply func\n",
    "aggregated_reviews['images_review_cln'] = aggregated_reviews['images_review'].apply(extract_dicts_from_array)"
   ]
  },
  {
   "cell_type": "code",
   "execution_count": 59,
   "metadata": {},
   "outputs": [],
   "source": [
    "# Drop og images_review\n",
    "aggregated_reviews = aggregated_reviews.drop(columns=['images_review'])"
   ]
  },
  {
   "cell_type": "code",
   "execution_count": 60,
   "metadata": {},
   "outputs": [
    {
     "data": {
      "text/html": [
       "<div>\n",
       "<style scoped>\n",
       "    .dataframe tbody tr th:only-of-type {\n",
       "        vertical-align: middle;\n",
       "    }\n",
       "\n",
       "    .dataframe tbody tr th {\n",
       "        vertical-align: top;\n",
       "    }\n",
       "\n",
       "    .dataframe thead th {\n",
       "        text-align: right;\n",
       "    }\n",
       "</style>\n",
       "<table border=\"1\" class=\"dataframe\">\n",
       "  <thead>\n",
       "    <tr style=\"text-align: right;\">\n",
       "      <th></th>\n",
       "      <th>parent_asin</th>\n",
       "      <th>title_review_agg</th>\n",
       "      <th>user_id</th>\n",
       "      <th>timestamp</th>\n",
       "      <th>avg_rating_reviewers</th>\n",
       "      <th>coefvar_rating_reviewers</th>\n",
       "      <th>text_agg</th>\n",
       "      <th>text_weighted_agg</th>\n",
       "      <th>images_review_cln</th>\n",
       "    </tr>\n",
       "  </thead>\n",
       "  <tbody>\n",
       "    <tr>\n",
       "      <th>0</th>\n",
       "      <td>B00LOPVX74</td>\n",
       "      <td>Pretty locket Great gift for my wife OK..... F...</td>\n",
       "      <td>[AGBFYI2DDIKXC5Y4FARTYDTQBMFQ, AGQIISDDHDYLF2P...</td>\n",
       "      <td>[2020-01-09, 2019-09-28, 2018-11-29, 2017-01-0...</td>\n",
       "      <td>4.25</td>\n",
       "      <td>0.29</td>\n",
       "      <td>I think this locket is really pretty. The insi...</td>\n",
       "      <td>I think this locket is really pretty. The insi...</td>\n",
       "      <td>[{'attachment_type': 'IMAGE', 'large_image_url...</td>\n",
       "    </tr>\n",
       "    <tr>\n",
       "      <th>1</th>\n",
       "      <td>B07B4JXK8D</td>\n",
       "      <td>A Cheaply made. Single wearing PROVIDES SAFETY...</td>\n",
       "      <td>[AFQLNQNQYFWQZPJQZS6V3NZU4QBQ, AE73VVEIEFN4NIM...</td>\n",
       "      <td>[2020-12-20, 2022-08-03, 2021-01-19, 2020-05-0...</td>\n",
       "      <td>3.92</td>\n",
       "      <td>0.38</td>\n",
       "      <td>Great Very loosely made material. Stretched ou...</td>\n",
       "      <td>Great  Very loosely made material. Stretched o...</td>\n",
       "      <td>[{'attachment_type': 'IMAGE', 'large_image_url...</td>\n",
       "    </tr>\n",
       "    <tr>\n",
       "      <th>2</th>\n",
       "      <td>B007ZSEQ4Q</td>\n",
       "      <td>Two Stars One Star A perfect gift. Subtle Five...</td>\n",
       "      <td>[AHITBJSS7KYUBVZPX7M2WJCOIVKQ, AHUYRZV7YZIEHPE...</td>\n",
       "      <td>[2015-05-23, 2016-09-15, 2014-04-27, 2013-10-1...</td>\n",
       "      <td>3.25</td>\n",
       "      <td>0.58</td>\n",
       "      <td>One of the stones fell out within the first 2 ...</td>\n",
       "      <td>One of the stones fell out within the first 2 ...</td>\n",
       "      <td>[]</td>\n",
       "    </tr>\n",
       "    <tr>\n",
       "      <th>3</th>\n",
       "      <td>B07F2BTFS9</td>\n",
       "      <td>Won’t buy again Slips from the feet (update gr...</td>\n",
       "      <td>[AFVNEEPDEIH5SPUN5BWC6NKL3WNQ, AH6MYAW6MC5CEA7...</td>\n",
       "      <td>[2018-12-31, 2019-07-30, 2019-02-04, 2019-10-2...</td>\n",
       "      <td>4.10</td>\n",
       "      <td>0.37</td>\n",
       "      <td>Crappy socks. Money wasted. Bought to wear wit...</td>\n",
       "      <td>Crappy socks. Money wasted. Bought to wear wit...</td>\n",
       "      <td>[{'attachment_type': 'IMAGE', 'large_image_url...</td>\n",
       "    </tr>\n",
       "    <tr>\n",
       "      <th>4</th>\n",
       "      <td>B00XESJTDE</td>\n",
       "      <td>I LOVE these glasses Great glass, but create a...</td>\n",
       "      <td>[AHSPLDNW5OOUK2PLH7GXLACFBZNQ, AH6PUGVRXGZ4YXX...</td>\n",
       "      <td>[2015-08-13, 2016-10-09, 2018-09-10, 2020-02-0...</td>\n",
       "      <td>4.08</td>\n",
       "      <td>0.30</td>\n",
       "      <td>I LOVE these glasses!  They fit perfectly over...</td>\n",
       "      <td>I LOVE these glasses!  They fit perfectly over...</td>\n",
       "      <td>[{'attachment_type': 'IMAGE', 'large_image_url...</td>\n",
       "    </tr>\n",
       "  </tbody>\n",
       "</table>\n",
       "</div>"
      ],
      "text/plain": [
       "  parent_asin                                   title_review_agg  \\\n",
       "0  B00LOPVX74  Pretty locket Great gift for my wife OK..... F...   \n",
       "1  B07B4JXK8D  A Cheaply made. Single wearing PROVIDES SAFETY...   \n",
       "2  B007ZSEQ4Q  Two Stars One Star A perfect gift. Subtle Five...   \n",
       "3  B07F2BTFS9  Won’t buy again Slips from the feet (update gr...   \n",
       "4  B00XESJTDE  I LOVE these glasses Great glass, but create a...   \n",
       "\n",
       "                                             user_id  \\\n",
       "0  [AGBFYI2DDIKXC5Y4FARTYDTQBMFQ, AGQIISDDHDYLF2P...   \n",
       "1  [AFQLNQNQYFWQZPJQZS6V3NZU4QBQ, AE73VVEIEFN4NIM...   \n",
       "2  [AHITBJSS7KYUBVZPX7M2WJCOIVKQ, AHUYRZV7YZIEHPE...   \n",
       "3  [AFVNEEPDEIH5SPUN5BWC6NKL3WNQ, AH6MYAW6MC5CEA7...   \n",
       "4  [AHSPLDNW5OOUK2PLH7GXLACFBZNQ, AH6PUGVRXGZ4YXX...   \n",
       "\n",
       "                                           timestamp  avg_rating_reviewers  \\\n",
       "0  [2020-01-09, 2019-09-28, 2018-11-29, 2017-01-0...                  4.25   \n",
       "1  [2020-12-20, 2022-08-03, 2021-01-19, 2020-05-0...                  3.92   \n",
       "2  [2015-05-23, 2016-09-15, 2014-04-27, 2013-10-1...                  3.25   \n",
       "3  [2018-12-31, 2019-07-30, 2019-02-04, 2019-10-2...                  4.10   \n",
       "4  [2015-08-13, 2016-10-09, 2018-09-10, 2020-02-0...                  4.08   \n",
       "\n",
       "   coefvar_rating_reviewers  \\\n",
       "0                      0.29   \n",
       "1                      0.38   \n",
       "2                      0.58   \n",
       "3                      0.37   \n",
       "4                      0.30   \n",
       "\n",
       "                                            text_agg  \\\n",
       "0  I think this locket is really pretty. The insi...   \n",
       "1  Great Very loosely made material. Stretched ou...   \n",
       "2  One of the stones fell out within the first 2 ...   \n",
       "3  Crappy socks. Money wasted. Bought to wear wit...   \n",
       "4  I LOVE these glasses!  They fit perfectly over...   \n",
       "\n",
       "                                   text_weighted_agg  \\\n",
       "0  I think this locket is really pretty. The insi...   \n",
       "1  Great  Very loosely made material. Stretched o...   \n",
       "2  One of the stones fell out within the first 2 ...   \n",
       "3  Crappy socks. Money wasted. Bought to wear wit...   \n",
       "4  I LOVE these glasses!  They fit perfectly over...   \n",
       "\n",
       "                                   images_review_cln  \n",
       "0  [{'attachment_type': 'IMAGE', 'large_image_url...  \n",
       "1  [{'attachment_type': 'IMAGE', 'large_image_url...  \n",
       "2                                                 []  \n",
       "3  [{'attachment_type': 'IMAGE', 'large_image_url...  \n",
       "4  [{'attachment_type': 'IMAGE', 'large_image_url...  "
      ]
     },
     "execution_count": 60,
     "metadata": {},
     "output_type": "execute_result"
    }
   ],
   "source": [
    "aggregated_reviews.head()"
   ]
  },
  {
   "cell_type": "code",
   "execution_count": 61,
   "metadata": {},
   "outputs": [],
   "source": [
    "# EXPORT \n",
    "# aggregated_reviews.to_parquet('aggregated_reviews_CLEAN_051624.parquet', index=False)"
   ]
  },
  {
   "cell_type": "markdown",
   "metadata": {},
   "source": [
    "### Add product info columns based on matching id"
   ]
  },
  {
   "cell_type": "code",
   "execution_count": 63,
   "metadata": {},
   "outputs": [],
   "source": [
    "# Merge based on aggregated_reviews (which dropped some products)\n",
    "final_df = pd.merge(meta, aggregated_reviews, on='parent_asin', how='right')"
   ]
  },
  {
   "cell_type": "code",
   "execution_count": 67,
   "metadata": {},
   "outputs": [
    {
     "name": "stdout",
     "output_type": "stream",
     "text": [
      "(776976, 9)\n",
      "(776976, 18)\n"
     ]
    }
   ],
   "source": [
    "print(aggregated_reviews.shape)\n",
    "print(final_df.shape)"
   ]
  },
  {
   "cell_type": "markdown",
   "metadata": {},
   "source": [
    "Number of row matches, as expected. Great!"
   ]
  },
  {
   "cell_type": "code",
   "execution_count": 70,
   "metadata": {},
   "outputs": [],
   "source": [
    "# Function to filter out key-value pairs where value is not None\n",
    "def filter_non_none(d):\n",
    "    return {k: v for k, v in d.items() if v is not None}"
   ]
  },
  {
   "cell_type": "code",
   "execution_count": 71,
   "metadata": {},
   "outputs": [],
   "source": [
    "# Apply\n",
    "final_df['details'] = final_df['details'].apply(filter_non_none)"
   ]
  },
  {
   "cell_type": "code",
   "execution_count": 75,
   "metadata": {},
   "outputs": [
    {
     "data": {
      "text/plain": [
       "{'Date First Available': 'March 11, 2016',\n",
       " 'Package Dimensions': '9.6 x 5.5 x 1.7 inches; 4.8 Ounces'}"
      ]
     },
     "execution_count": 75,
     "metadata": {},
     "output_type": "execute_result"
    }
   ],
   "source": [
    "# Check\n",
    "# final_df['details'].iloc[157]"
   ]
  },
  {
   "cell_type": "code",
   "execution_count": 84,
   "metadata": {},
   "outputs": [
    {
     "data": {
      "text/plain": [
       "title                        object\n",
       "average_rating              float64\n",
       "rating_number                 int64\n",
       "features                     object\n",
       "description                  object\n",
       "price                       float64\n",
       "images                       object\n",
       "store                        object\n",
       "details                      object\n",
       "parent_asin                  object\n",
       "title_review_agg             object\n",
       "user_id                      object\n",
       "timestamp                    object\n",
       "avg_rating_reviewers        float64\n",
       "coefvar_rating_reviewers    float64\n",
       "text_agg                     object\n",
       "text_weighted_agg            object\n",
       "images_review_cln            object\n",
       "dtype: object"
      ]
     },
     "execution_count": 84,
     "metadata": {},
     "output_type": "execute_result"
    }
   ],
   "source": [
    "final_df.dtypes"
   ]
  },
  {
   "cell_type": "code",
   "execution_count": 94,
   "metadata": {},
   "outputs": [
    {
     "data": {
      "text/plain": [
       "list"
      ]
     },
     "execution_count": 94,
     "metadata": {},
     "output_type": "execute_result"
    }
   ],
   "source": [
    "type(final_df['images_review_cln'].iloc[0])"
   ]
  },
  {
   "cell_type": "code",
   "execution_count": 95,
   "metadata": {},
   "outputs": [
    {
     "data": {
      "text/plain": [
       "[{'attachment_type': 'IMAGE',\n",
       "  'large_image_url': 'https://images-na.ssl-images-amazon.com/images/I/61ibpqlhYoL.jpg',\n",
       "  'medium_image_url': 'https://images-na.ssl-images-amazon.com/images/I/61ibpqlhYoL._SL800_.jpg',\n",
       "  'small_image_url': 'https://images-na.ssl-images-amazon.com/images/I/61ibpqlhYoL._SL256_.jpg'}]"
      ]
     },
     "execution_count": 95,
     "metadata": {},
     "output_type": "execute_result"
    }
   ],
   "source": [
    "final_df['images_review_cln'].iloc[0]"
   ]
  },
  {
   "cell_type": "markdown",
   "metadata": {},
   "source": [
    "Looks good!"
   ]
  },
  {
   "cell_type": "code",
   "execution_count": 79,
   "metadata": {},
   "outputs": [],
   "source": [
    "# SAVE!\n",
    "# final_df.to_parquet('amazon_fashion_clean_051624.parquet')"
   ]
  }
 ],
 "metadata": {
  "kernelspec": {
   "display_name": "base",
   "language": "python",
   "name": "python3"
  },
  "language_info": {
   "codemirror_mode": {
    "name": "ipython",
    "version": 3
   },
   "file_extension": ".py",
   "mimetype": "text/x-python",
   "name": "python",
   "nbconvert_exporter": "python",
   "pygments_lexer": "ipython3",
   "version": "3.11.4"
  }
 },
 "nbformat": 4,
 "nbformat_minor": 2
}
