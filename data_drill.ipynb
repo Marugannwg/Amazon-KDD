{
 "cells": [
  {
   "cell_type": "code",
   "execution_count": 4,
   "metadata": {},
   "outputs": [],
   "source": [
    "import pyarrow.parquet as pa\n",
    "parquet_file = pa.read_table(\"amazon_fashion_clean_051624.parquet\")\n"
   ]
  },
  {
   "cell_type": "code",
   "execution_count": 5,
   "metadata": {},
   "outputs": [],
   "source": [
    "import pandas as pd\n",
    "\n",
    "df = parquet_file.to_pandas()"
   ]
  },
  {
   "cell_type": "code",
   "execution_count": 6,
   "metadata": {},
   "outputs": [
    {
     "data": {
      "text/plain": [
       "(776976, 18)"
      ]
     },
     "execution_count": 6,
     "metadata": {},
     "output_type": "execute_result"
    }
   ],
   "source": [
    "df.shape"
   ]
  },
  {
   "cell_type": "code",
   "execution_count": 7,
   "metadata": {},
   "outputs": [
    {
     "data": {
      "text/plain": [
       "Index(['title', 'average_rating', 'rating_number', 'features', 'description',\n",
       "       'price', 'images', 'store', 'details', 'parent_asin',\n",
       "       'title_review_agg', 'user_id', 'timestamp', 'avg_rating_reviewers',\n",
       "       'coefvar_rating_reviewers', 'text_agg', 'text_weighted_agg',\n",
       "       'images_review_cln'],\n",
       "      dtype='object')"
      ]
     },
     "execution_count": 7,
     "metadata": {},
     "output_type": "execute_result"
    }
   ],
   "source": [
    "df.columns"
   ]
  },
  {
   "cell_type": "code",
   "execution_count": 21,
   "metadata": {},
   "outputs": [
    {
     "data": {
      "text/plain": [
       "534"
      ]
     },
     "execution_count": 21,
     "metadata": {},
     "output_type": "execute_result"
    }
   ],
   "source": [
    "len(df['details'][0])"
   ]
  },
  {
   "cell_type": "code",
   "execution_count": 19,
   "metadata": {},
   "outputs": [],
   "source": [
    "# Normalize the 'details' column into a separate DataFrame\n",
    "details_df = pd.json_normalize(df['details'])\n"
   ]
  },
  {
   "cell_type": "code",
   "execution_count": 20,
   "metadata": {},
   "outputs": [
    {
     "name": "stdout",
     "output_type": "stream",
     "text": [
      "                                                    title        \\\n",
      "0       CHUVORA 925 Sterling Silver Open Celtic Knot C...  None   \n",
      "1       XX-Large Slip Stop Single Tread Slipper Socks ...  None   \n",
      "2       Sterling Silver 3mm Round Cut CZ Tennis Bracel...  None   \n",
      "3       VERO MONTE 4 Pairs Womens TRULY No Show Socks ...  None   \n",
      "4       SA106 Womens Rhinestone Jewel Polarized Lens 6...  None   \n",
      "...                                                   ...   ...   \n",
      "776971  ForLeatherMore Genuine Leather Lamb Drawing En...  None   \n",
      "776972  Magnificent Mr. Claus Christmas Suit | Festive...  None   \n",
      "776973  Workout Longline Padded Yoga Sports Bra Fitnes...  None   \n",
      "776974  AITFINEISM Classic Slim Fit Bomber Jacket Men ...  None   \n",
      "776975  DINGANG Lantern Dress for Women Summer Casual ...  None   \n",
      "\n",
      "       ABPA Partslink Number ASTM Fluid Rating Active Ingredients  \\\n",
      "0                       None              None               None   \n",
      "1                       None              None               None   \n",
      "2                       None              None               None   \n",
      "3                       None              None               None   \n",
      "4                       None              None               None   \n",
      "...                      ...               ...                ...   \n",
      "776971                  None              None               None   \n",
      "776972                  None              None               None   \n",
      "776973                  None              None               None   \n",
      "776974                  None              None               None   \n",
      "776975                  None              None               None   \n",
      "\n",
      "       Additional product features Age Range (Description)  \\\n",
      "0                             None                    None   \n",
      "1                             None                    None   \n",
      "2                             None                   Adult   \n",
      "3                             None                    None   \n",
      "4                             None                    None   \n",
      "...                            ...                     ...   \n",
      "776971                        None                    None   \n",
      "776972                        None                    None   \n",
      "776973                        None                    None   \n",
      "776974                        None                    None   \n",
      "776975                        None                    None   \n",
      "\n",
      "       Age Range Description Alarm Clock Antibacterial treatment  ...  \\\n",
      "0                       None        None                    None  ...   \n",
      "1                       None        None                    None  ...   \n",
      "2                       None        None                    None  ...   \n",
      "3                       None        None                    None  ...   \n",
      "4                       None        None                    None  ...   \n",
      "...                      ...         ...                     ...  ...   \n",
      "776971                  None        None                    None  ...   \n",
      "776972                  None        None                    None  ...   \n",
      "776973                  None        None                    None  ...   \n",
      "776974                  None        None                    None  ...   \n",
      "776975                  None        None                    None  ...   \n",
      "\n",
      "       Wireless network technology With Lid  Year material_composition  \\\n",
      "0                             None     None  None                 None   \n",
      "1                             None     None  None                 None   \n",
      "2                             None     None  None                 None   \n",
      "3                             None     None  None                 None   \n",
      "4                             None     None  None                 None   \n",
      "...                            ...      ...   ...                  ...   \n",
      "776971                        None     None  None                 None   \n",
      "776972                        None     None  None                 None   \n",
      "776973                        None     None  None                 None   \n",
      "776974                        None     None  None                 None   \n",
      "776975                        None     None  None                 None   \n",
      "\n",
      "       Best Sellers Rank.Climate Pledge Friendly  \\\n",
      "0                                            NaN   \n",
      "1                                            NaN   \n",
      "2                                            NaN   \n",
      "3                                            NaN   \n",
      "4                                            NaN   \n",
      "...                                          ...   \n",
      "776971                                       NaN   \n",
      "776972                                       NaN   \n",
      "776973                                       NaN   \n",
      "776974                                       NaN   \n",
      "776975                                       NaN   \n",
      "\n",
      "       Best Sellers Rank.Climate Pledge Friendly: Apparel  \\\n",
      "0                                                     NaN   \n",
      "1                                                     NaN   \n",
      "2                                                     NaN   \n",
      "3                                                     NaN   \n",
      "4                                                     NaN   \n",
      "...                                                   ...   \n",
      "776971                                                NaN   \n",
      "776972                                                NaN   \n",
      "776973                                                NaN   \n",
      "776974                                                NaN   \n",
      "776975                                                NaN   \n",
      "\n",
      "       Best Sellers Rank.Men's Wallets Best Sellers Rank.Our Brands  \\\n",
      "0                                  NaN                          NaN   \n",
      "1                                  NaN                          NaN   \n",
      "2                                  NaN                          NaN   \n",
      "3                                  NaN                          NaN   \n",
      "4                                  NaN                          NaN   \n",
      "...                                ...                          ...   \n",
      "776971                             NaN                          NaN   \n",
      "776972                             NaN                          NaN   \n",
      "776973                             NaN                          NaN   \n",
      "776974                             NaN                          NaN   \n",
      "776975                             NaN                          NaN   \n",
      "\n",
      "       Best Sellers Rank.Women's Activewear Leggings  \\\n",
      "0                                                NaN   \n",
      "1                                                NaN   \n",
      "2                                                NaN   \n",
      "3                                                NaN   \n",
      "4                                                NaN   \n",
      "...                                              ...   \n",
      "776971                                           NaN   \n",
      "776972                                           NaN   \n",
      "776973                                           NaN   \n",
      "776974                                           NaN   \n",
      "776975                                           NaN   \n",
      "\n",
      "       Best Sellers Rank.Women's Activewear T-Shirts  \n",
      "0                                                NaN  \n",
      "1                                                NaN  \n",
      "2                                                NaN  \n",
      "3                                                NaN  \n",
      "4                                                NaN  \n",
      "...                                              ...  \n",
      "776971                                           NaN  \n",
      "776972                                           NaN  \n",
      "776973                                           NaN  \n",
      "776974                                           NaN  \n",
      "776975                                           NaN  \n",
      "\n",
      "[776976 rows x 541 columns]\n"
     ]
    }
   ],
   "source": [
    "\n",
    "# Concatenate the 'title' column with the normalized details DataFrame\n",
    "result_df = pd.concat([df[['title']], details_df], axis=1)\n",
    "\n",
    "# Display the result\n",
    "print(result_df)"
   ]
  },
  {
   "cell_type": "code",
   "execution_count": null,
   "metadata": {},
   "outputs": [],
   "source": []
  },
  {
   "cell_type": "code",
   "execution_count": 30,
   "metadata": {},
   "outputs": [
    {
     "name": "stdout",
     "output_type": "stream",
     "text": [
      "Columns with less than 75% missing values: ['title', 'Date First Available', 'Is Discontinued By Manufacturer', 'Item model number', 'Package Dimensions']\n"
     ]
    }
   ],
   "source": [
    "# Calculate the percentage of missing values in each column\n",
    "missing_percentage = result_df.isnull().mean() * 100\n",
    "\n",
    "# Display columns with less than a certain threshold of missing values\n",
    "threshold = 75 # For example, 50%\n",
    "significant_columns = missing_percentage[missing_percentage < threshold].index.tolist()\n",
    "print(f\"Columns with less than {threshold}% missing values:\", significant_columns)"
   ]
  },
  {
   "cell_type": "code",
   "execution_count": 27,
   "metadata": {},
   "outputs": [
    {
     "name": "stdout",
     "output_type": "stream",
     "text": [
      "0           1\n",
      "1         162\n",
      "2          53\n",
      "3          37\n",
      "4          21\n",
      "         ... \n",
      "285655      1\n",
      "353521      1\n",
      "494779      1\n",
      "749608      1\n",
      "776976      1\n",
      "Name: count, Length: 152, dtype: int64\n"
     ]
    }
   ],
   "source": [
    "nonnull_counts = result_df.notnull().sum()\n",
    "\n",
    "# Aggregate how many columns have x non-null entries\n",
    "column_count_summary = nonnull_counts.value_counts().sort_index()\n",
    "\n",
    "# Display the summary\n",
    "print(column_count_summary)"
   ]
  },
  {
   "cell_type": "code",
   "execution_count": 35,
   "metadata": {},
   "outputs": [
    {
     "data": {
      "text/plain": [
       "776976    1\n",
       "749608    1\n",
       "494779    1\n",
       "353521    1\n",
       "285655    1\n",
       "         ..\n",
       "100       1\n",
       "99        2\n",
       "97        1\n",
       "92        1\n",
       "87        1\n",
       "Name: count, Length: 99, dtype: int64"
      ]
     },
     "execution_count": 35,
     "metadata": {},
     "output_type": "execute_result"
    }
   ],
   "source": [
    "column_count_summary[-1:-100:-1]"
   ]
  }
 ],
 "metadata": {
  "kernelspec": {
   "display_name": "Python 3",
   "language": "python",
   "name": "python3"
  },
  "language_info": {
   "codemirror_mode": {
    "name": "ipython",
    "version": 3
   },
   "file_extension": ".py",
   "mimetype": "text/x-python",
   "name": "python",
   "nbconvert_exporter": "python",
   "pygments_lexer": "ipython3",
   "version": "3.12.0"
  }
 },
 "nbformat": 4,
 "nbformat_minor": 2
}
