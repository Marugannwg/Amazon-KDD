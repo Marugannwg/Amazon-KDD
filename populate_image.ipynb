{
 "cells": [
  {
   "cell_type": "code",
   "execution_count": 2,
   "metadata": {},
   "outputs": [],
   "source": [
    "import ijson\n",
    "import numpy as np\n",
    "import cv2\n",
    "import urllib.request\n",
    "from PIL import Image\n",
    "from tqdm import tqdm\n",
    "from sentence_transformers import SentenceTransformer\n",
    "import torch\n",
    "from pinecone import Pinecone\n",
    "import json"
   ]
  },
  {
   "cell_type": "code",
   "execution_count": 15,
   "metadata": {},
   "outputs": [],
   "source": [
    "import time\n",
    "import random"
   ]
  },
  {
   "cell_type": "code",
   "execution_count": 3,
   "metadata": {},
   "outputs": [
    {
     "data": {
      "text/plain": [
       "'2.3.0'"
      ]
     },
     "execution_count": 3,
     "metadata": {},
     "output_type": "execute_result"
    }
   ],
   "source": [
    "torch.__version__"
   ]
  },
  {
   "cell_type": "code",
   "execution_count": 4,
   "metadata": {},
   "outputs": [
    {
     "data": {
      "text/plain": [
       "'NVIDIA GeForce RTX 4090'"
      ]
     },
     "execution_count": 4,
     "metadata": {},
     "output_type": "execute_result"
    }
   ],
   "source": [
    "torch.cuda.get_device_name(torch.cuda.current_device())"
   ]
  },
  {
   "cell_type": "code",
   "execution_count": 4,
   "metadata": {},
   "outputs": [],
   "source": [
    "pinecone_api_key = \"92fd371f-5b1e-415b-bcb4-9a9922514120\"\n",
    "pc = Pinecone(api_key=pinecone_api_key)\n",
    "pinecone_index = pc.Index(\"clip-embed\") # don't mess up the name here"
   ]
  },
  {
   "cell_type": "code",
   "execution_count": 5,
   "metadata": {},
   "outputs": [
    {
     "data": {
      "text/plain": [
       "{'dimension': 512,\n",
       " 'index_fullness': 0.0,\n",
       " 'namespaces': {},\n",
       " 'total_vector_count': 0}"
      ]
     },
     "execution_count": 5,
     "metadata": {},
     "output_type": "execute_result"
    }
   ],
   "source": [
    "pinecone_index.describe_index_stats()"
   ]
  },
  {
   "cell_type": "code",
   "execution_count": 6,
   "metadata": {},
   "outputs": [
    {
     "data": {
      "text/plain": [
       "SentenceTransformer(\n",
       "  (0): CLIPModel()\n",
       ")"
      ]
     },
     "execution_count": 6,
     "metadata": {},
     "output_type": "execute_result"
    }
   ],
   "source": [
    "model = SentenceTransformer('clip-ViT-B-32')\n",
    "device = 'cuda' if torch.cuda.is_available() else 'cpu'\n",
    "model.to(device)"
   ]
  },
  {
   "cell_type": "code",
   "execution_count": 7,
   "metadata": {},
   "outputs": [],
   "source": [
    "json_file_test = \"output/test_images.json\""
   ]
  },
  {
   "cell_type": "code",
   "execution_count": 12,
   "metadata": {},
   "outputs": [],
   "source": [
    "with open(json_file_test, 'r') as f:\n",
    "    data = json.load(f)\n",
    "\n"
   ]
  },
  {
   "cell_type": "code",
   "execution_count": 14,
   "metadata": {},
   "outputs": [
    {
     "name": "stdout",
     "output_type": "stream",
     "text": [
      "0000099813\n",
      "https://m.media-amazon.com/images/I/3196g3bMM5L._AC_.jpg Military US Issue JP 8 Gore TEX Fuel Handler Coverall L/R (Large)\n"
     ]
    }
   ],
   "source": [
    "for key,value in data.items():\n",
    "    print(key)\n",
    "    print(value['image_link'], value['title'])\n",
    "    break"
   ]
  },
  {
   "cell_type": "code",
   "execution_count": 16,
   "metadata": {},
   "outputs": [
    {
     "ename": "FileNotFoundError",
     "evalue": "[Errno 2] No such file or directory: 'path_to_your_large_json_file.json'",
     "output_type": "error",
     "traceback": [
      "\u001b[1;31m---------------------------------------------------------------------------\u001b[0m",
      "\u001b[1;31mFileNotFoundError\u001b[0m                         Traceback (most recent call last)",
      "Cell \u001b[1;32mIn[16], line 38\u001b[0m\n\u001b[0;32m     35\u001b[0m             pinecone_index\u001b[38;5;241m.\u001b[39mupsert(vectors\u001b[38;5;241m=\u001b[39mbatch)\n\u001b[0;32m     36\u001b[0m             \u001b[38;5;28mprint\u001b[39m(\u001b[38;5;124mf\u001b[39m\u001b[38;5;124m\"\u001b[39m\u001b[38;5;124mUpserted final batch of size \u001b[39m\u001b[38;5;132;01m{\u001b[39;00m\u001b[38;5;28mlen\u001b[39m(batch)\u001b[38;5;132;01m}\u001b[39;00m\u001b[38;5;124m\"\u001b[39m)\n\u001b[1;32m---> 38\u001b[0m \u001b[43mprocess_images_in_batches\u001b[49m\u001b[43m(\u001b[49m\u001b[38;5;124;43m'\u001b[39;49m\u001b[38;5;124;43mpath_to_your_large_json_file.json\u001b[39;49m\u001b[38;5;124;43m'\u001b[39;49m\u001b[43m,\u001b[49m\u001b[43m \u001b[49m\u001b[43mbatch_size\u001b[49m\u001b[38;5;241;43m=\u001b[39;49m\u001b[38;5;241;43m128\u001b[39;49m\u001b[43m)\u001b[49m\n",
      "Cell \u001b[1;32mIn[16], line 18\u001b[0m, in \u001b[0;36mprocess_images_in_batches\u001b[1;34m(json_file, batch_size)\u001b[0m\n\u001b[0;32m     16\u001b[0m \u001b[38;5;28;01mdef\u001b[39;00m \u001b[38;5;21mprocess_images_in_batches\u001b[39m(json_file, batch_size\u001b[38;5;241m=\u001b[39m\u001b[38;5;241m10\u001b[39m):\n\u001b[0;32m     17\u001b[0m     batch \u001b[38;5;241m=\u001b[39m []\n\u001b[1;32m---> 18\u001b[0m     \u001b[38;5;28;01mwith\u001b[39;00m \u001b[38;5;28;43mopen\u001b[39;49m\u001b[43m(\u001b[49m\u001b[43mjson_file\u001b[49m\u001b[43m,\u001b[49m\u001b[43m \u001b[49m\u001b[38;5;124;43m'\u001b[39;49m\u001b[38;5;124;43mrb\u001b[39;49m\u001b[38;5;124;43m'\u001b[39;49m\u001b[43m)\u001b[49m \u001b[38;5;28;01mas\u001b[39;00m file:\n\u001b[0;32m     19\u001b[0m         items \u001b[38;5;241m=\u001b[39m ijson\u001b[38;5;241m.\u001b[39mitems(file, \u001b[38;5;124m'\u001b[39m\u001b[38;5;124mitem\u001b[39m\u001b[38;5;124m'\u001b[39m)\n\u001b[0;32m     20\u001b[0m         \u001b[38;5;28;01mfor\u001b[39;00m item \u001b[38;5;129;01min\u001b[39;00m items:\n",
      "File \u001b[1;32mc:\\Users\\Admin\\anaconda3\\envs\\backup\\Lib\\site-packages\\IPython\\core\\interactiveshell.py:324\u001b[0m, in \u001b[0;36m_modified_open\u001b[1;34m(file, *args, **kwargs)\u001b[0m\n\u001b[0;32m    317\u001b[0m \u001b[38;5;28;01mif\u001b[39;00m file \u001b[38;5;129;01min\u001b[39;00m {\u001b[38;5;241m0\u001b[39m, \u001b[38;5;241m1\u001b[39m, \u001b[38;5;241m2\u001b[39m}:\n\u001b[0;32m    318\u001b[0m     \u001b[38;5;28;01mraise\u001b[39;00m \u001b[38;5;167;01mValueError\u001b[39;00m(\n\u001b[0;32m    319\u001b[0m         \u001b[38;5;124mf\u001b[39m\u001b[38;5;124m\"\u001b[39m\u001b[38;5;124mIPython won\u001b[39m\u001b[38;5;124m'\u001b[39m\u001b[38;5;124mt let you open fd=\u001b[39m\u001b[38;5;132;01m{\u001b[39;00mfile\u001b[38;5;132;01m}\u001b[39;00m\u001b[38;5;124m by default \u001b[39m\u001b[38;5;124m\"\u001b[39m\n\u001b[0;32m    320\u001b[0m         \u001b[38;5;124m\"\u001b[39m\u001b[38;5;124mas it is likely to crash IPython. If you know what you are doing, \u001b[39m\u001b[38;5;124m\"\u001b[39m\n\u001b[0;32m    321\u001b[0m         \u001b[38;5;124m\"\u001b[39m\u001b[38;5;124myou can use builtins\u001b[39m\u001b[38;5;124m'\u001b[39m\u001b[38;5;124m open.\u001b[39m\u001b[38;5;124m\"\u001b[39m\n\u001b[0;32m    322\u001b[0m     )\n\u001b[1;32m--> 324\u001b[0m \u001b[38;5;28;01mreturn\u001b[39;00m \u001b[43mio_open\u001b[49m\u001b[43m(\u001b[49m\u001b[43mfile\u001b[49m\u001b[43m,\u001b[49m\u001b[43m \u001b[49m\u001b[38;5;241;43m*\u001b[39;49m\u001b[43margs\u001b[49m\u001b[43m,\u001b[49m\u001b[43m \u001b[49m\u001b[38;5;241;43m*\u001b[39;49m\u001b[38;5;241;43m*\u001b[39;49m\u001b[43mkwargs\u001b[49m\u001b[43m)\u001b[49m\n",
      "\u001b[1;31mFileNotFoundError\u001b[0m: [Errno 2] No such file or directory: 'path_to_your_large_json_file.json'"
     ]
    }
   ],
   "source": [
    "def fetch_image(url):\n",
    "    \"\"\"Attempt to fetch an image from a URL with retries for reliability.\"\"\"\n",
    "    max_attempts = 5\n",
    "    for attempt in range(max_attempts):\n",
    "        try:\n",
    "            response = urllib.request.urlopen(url)\n",
    "            image = np.asarray(bytearray(response.read()), dtype=\"uint8\")\n",
    "            image = cv2.imdecode(image, cv2.IMREAD_COLOR)\n",
    "            image = cv2.cvtColor(image, cv2.COLOR_BGR2RGB)\n",
    "            return Image.fromarray(image)\n",
    "        except Exception as e:\n",
    "            print(f\"Attempt {attempt+1}: Failed to load {url}: {str(e)}\")\n",
    "            time.sleep(2 ** attempt + random.random())  # Exponential backoff + jitter\n",
    "    return None\n",
    "\n",
    "def process_images_in_batches(json_file, batch_size=10):\n",
    "    batch = []\n",
    "    with open(json_file, 'rb') as file:\n",
    "        items = ijson.items(file, 'item')\n",
    "        for item in items:\n",
    "            image_link = item['image_link']\n",
    "            key = item['id']\n",
    "            title = item['title']\n",
    "            image = fetch_image(image_link)\n",
    "            if image:\n",
    "                embeddings = model.encode([image], convert_to_tensor=True)\n",
    "                batch.append({\"id\": key, \"values\": embeddings.cpu().numpy().tolist(), \"metadata\": {\"title\": title}})\n",
    "            \n",
    "            if len(batch) >= batch_size:\n",
    "                pinecone_index.upsert(vectors=batch)\n",
    "                print(f\"Upserted batch of size {len(batch)}\")\n",
    "                batch = []\n",
    "        \n",
    "        if batch:  # Upsert any remaining images\n",
    "            pinecone_index.upsert(vectors=batch)\n",
    "            print(f\"Upserted final batch of size {len(batch)}\")\n"
   ]
  },
  {
   "cell_type": "code",
   "execution_count": 18,
   "metadata": {},
   "outputs": [],
   "source": [
    "process_images_in_batches('output/test_images.json', batch_size=128)"
   ]
  },
  {
   "cell_type": "code",
   "execution_count": 25,
   "metadata": {},
   "outputs": [],
   "source": [
    "def fetch_images(urls):\n",
    "    images = []\n",
    "    for url in tqdm(urls):\n",
    "        try:\n",
    "            resp = urllib.request.urlopen(url)\n",
    "            image = np.asarray(bytearray(resp.read()), dtype=\"uint8\")\n",
    "            image = cv2.imdecode(image, cv2.IMREAD_COLOR)\n",
    "            image = cv2.cvtColor(image, cv2.COLOR_BGR2RGB)\n",
    "            images.append(Image.fromarray(image))\n",
    "        except Exception as e:\n",
    "            print(f\"Failed to load {url}: {str(e)}\")\n",
    "    return images\n",
    "\n",
    "def upsert_to_pinecone(pinecone_index, batch):\n",
    "    if batch:\n",
    "        pinecone_index.upsert(vectors=batch)\n",
    "\n",
    "def process_images_in_batches(json_file, batch_size=10):\n",
    "    urls = []\n",
    "    keys = []\n",
    "    titles = []\n",
    "    count = 0\n",
    "\n",
    "    with open(json_file, 'r') as file:\n",
    "        for item in ijson.items(file, 'item'):\n",
    "            urls.append(item['image_link'])\n",
    "            keys.append(item['id'])\n",
    "            titles.append(item['title'])\n",
    "            count += 1\n",
    "\n",
    "            if count >= batch_size:\n",
    "                images = fetch_images(urls)\n",
    "                embeddings = model.encode(images, batch_size=len(images), convert_to_tensor=True, show_progress_bar=True)\n",
    "                batch = [\n",
    "                    {\"id\": key, \n",
    "                     \"values\": embedding.cpu().numpy().tolist(), \"metadata\": {\"title\": title}}\n",
    "                    for key, embedding, title in zip(keys, embeddings, titles)\n",
    "                ]\n",
    "                upsert_to_pinecone(pinecone_index, batch)\n",
    "                print(f\"Upserted batch of size {len(images)}\")\n",
    "                \n",
    "                urls = []\n",
    "                keys = []\n",
    "                titles = []\n",
    "                count = 0\n",
    "\n",
    "        if urls:\n",
    "            images = fetch_images(urls)\n",
    "            embeddings = model.encode(images, batch_size=len(images), convert_to_tensor=True, show_progress_bar=True)\n",
    "            batch = [\n",
    "                {\"id\": key, \"values\": embedding.cpu().numpy().tolist(), \"metadata\": {\"title\": title}}\n",
    "                for key, embedding, title in zip(keys, embeddings, titles)\n",
    "            ]\n",
    "            upsert_to_pinecone(pinecone_index, batch)\n",
    "            print(f\"Upserted final batch of size {len(images)}\")"
   ]
  },
  {
   "cell_type": "code",
   "execution_count": 20,
   "metadata": {},
   "outputs": [],
   "source": [
    "link_to_test_json = \"output/test_images.json\"\n",
    "\n",
    "link= \"output'/product_details_array.json\""
   ]
  },
  {
   "cell_type": "code",
   "execution_count": null,
   "metadata": {},
   "outputs": [],
   "source": [
    "import ijson\n",
    "\n",
    "filename = 'output/product_details_array.json'\n",
    "with open(filename, 'rb') as f:\n",
    "    objects = ijson.items(f, 'item')\n",
    "    for obj in objects:\n",
    "        print(obj['id'], obj['title'], obj['image_link'])"
   ]
  },
  {
   "cell_type": "code",
   "execution_count": 32,
   "metadata": {},
   "outputs": [
    {
     "name": "stdout",
     "output_type": "stream",
     "text": [
      "{'0000099813': {'image_link': 'https://m.media-amazon.com/images/I/3196g3bMM5L._AC_.jpg', 'title': 'Military US Issue JP 8 Gore TEX Fuel Handler Coverall L/R (Large)'}, '0310807115': {'image_link': 'https://m.media-amazon.com/images/I/41KXCJAX8HL._AC_.jpg', 'title': 'Messenger Bag with Detachable Cover Black LG'}, '0512238944': {'image_link': 'https://m.media-amazon.com/images/I/41DGFNVLwsL._AC_.jpg', 'title': 'Womens Cap Sleeve Crew Neck Tshirts with Pocket Summer Casual Leopard Loose Fit Side Split Tees Tops Pink'}, '0512238995': {'image_link': 'https://m.media-amazon.com/images/I/411qklz7joL._AC_.jpg', 'title': 'Womens Cap Sleeve Crew Neck Tshirts with Pocket Summer Casual Leopard Loose Fit Side Split Tees Tops Blue'}, '0512239045': {'image_link': 'https://m.media-amazon.com/images/I/41XR6Q-hwpL._AC_.jpg', 'title': 'Womens Cap Sleeve Crew Neck Tshirts with Pocket Summer Casual Leopard Loose Fit Side Split Tees Tops Khaki'}, '0512239134': {'image_link': 'https://m.media-amazon.com/images/I/41XnsjTOGPL._AC_.jpg', 'title': 'Womens Cap Sleeve Crew Neck Tshirts with Pocket Summer Casual Leopard Loose Fit Side Split Tees Tops Light Grey'}, '0512239150': {'image_link': 'https://m.media-amazon.com/images/I/41XnsjTOGPL._AC_.jpg', 'title': 'Womens Cap Sleeve Crew Neck Tshirts with Pocket Summer Casual Leopard Loose Fit Side Split Tees Tops Light Grey'}, '0512239347': {'image_link': 'https://m.media-amazon.com/images/I/41nc2Pfcn9L._AC_.jpg', 'title': 'Women Elbow Length Half Sleeve Casual Tshirts Summer Crewneck Cotton Loose Basic Striped Oversized Tee Tops Grey'}, '0512243034': {'image_link': 'https://m.media-amazon.com/images/I/41Oh0s6JvqL._AC_.jpg', 'title': 'Womens Cap Sleeve Crew Neck Tshirts with Pocket Summer Casual Leopard Loose Fit Side Split Tees Tops'}, '0512243115': {'image_link': 'https://m.media-amazon.com/images/I/41EW6HQo0dL._AC_.jpg', 'title': 'Womens Cap Sleeve Crew Neck Tshirts with Pocket Summer Casual Leopard Loose Fit Side Split Tees Tops'}, '0512243212': {'image_link': 'https://m.media-amazon.com/images/I/41OP1cOxvyL._AC_.jpg', 'title': 'Womens Cap Sleeve Crew Neck Tshirts with Pocket Summer Casual Leopard Loose Fit Side Split Tees Tops'}, '0545142954': {'image_link': 'https://m.media-amazon.com/images/I/51PTewBd0aL._AC_.jpg', 'title': 'Purplicious'}, '0545298156': {'image_link': 'https://m.media-amazon.com/images/I/61vnhcgqA-L._AC_.jpg', 'title': \"Vincent Van Gogh's Cat\"}, '0599521503': {'image_link': 'https://m.media-amazon.com/images/I/41AzYIprv+L._AC_.jpg', 'title': 'Jzcky Shzrp Silver and Green Color High Quality Zinc Alloy Four-leaf Clover Fortune Keychain (Four-leaf Clover)'}, '0610318861': {'image_link': 'https://m.media-amazon.com/images/I/51Lau32KO3L._AC_.jpg', 'title': \"Jzcky Shzrp Fashion Lady's High Heels Keychain, Creative Refinement Hollow Shoes Lady Gift (Silver)\"}}\n"
     ]
    }
   ],
   "source": [
    "with open(link_to_test_json,\"r\") as f:\n",
    "    items = ijson.items(f, '')\n",
    "\n",
    "    for item in items:\n",
    "        print(item)\n",
    "        break"
   ]
  }
 ],
 "metadata": {
  "kernelspec": {
   "display_name": "backup",
   "language": "python",
   "name": "python3"
  },
  "language_info": {
   "codemirror_mode": {
    "name": "ipython",
    "version": 3
   },
   "file_extension": ".py",
   "mimetype": "text/x-python",
   "name": "python",
   "nbconvert_exporter": "python",
   "pygments_lexer": "ipython3",
   "version": "3.12.0"
  }
 },
 "nbformat": 4,
 "nbformat_minor": 2
}
