{
 "cells": [
  {
   "cell_type": "markdown",
   "metadata": {},
   "source": [
    "This notebook explores the possibility of creating a multi-modal, multi-purpose AI that can achieve the following:\n",
    "\n",
    "1. **Multimodal product-question answering specifically focusing on the product details.** <br>\n",
    "The AI can tell you things ABOUT THE PRODUCT such as it’s durability, customer complaints, etc., so you can talk to it like it is a customer who has more first-hand experience with the product than you (concatenate Amazon review data). The focus is on product knowledge, not necessarily guiding the customer through the shopping experience or answering other customer-experience related questions. \n",
    "\n",
    "2. **Multimodal Product Anomaly Detection:** <br>\n",
    "Develop models that can detect anomalies or inconsistencies in product listings by cross-checking information across different modalities (e.g., text description inconsistent with product images).\n",
    "\n",
    "\n",
    "### PROCESS\n",
    "We can phrase a RQ/research process as:\n",
    "\n",
    "1. What are the hottest selling items on Amazon or other sites? (Views, clicks, successful purchases, any metric related)\n",
    "\n",
    "2. What is the nature of the text descriptions of these items? What <font color=\"salmon\"> metric</font> can we develop to determine the consistency of product image to description? \n",
    "    * Supervised learning with hand-coded “good description” vs. “not good description”\n",
    "    * Design model’s internal representation: RAG, etc. not my forte\n",
    "    * USE CONSUMER FEEDBACK as part of the score! \n",
    "\n",
    "3. Then apply this metric/analysis to other websites or products. Which sites score highest?\n",
    "\n",
    "4. Lastly, apply this analysis outside of shopping. Do image captions and descriptions match better in some modes of media than others? \n",
    "\n",
    "\n",
    "### WHAT DOES THE DATA LOOK LIKE?\n",
    "* Tabular, with columns for \n",
    "    * Product name\n",
    "    * Descriptions, features\n",
    "    * Review text (as a dict?)\n",
    "    * Rating/popularity measure\n",
    "    * Image link\n",
    "\n",
    "AFTER PROCESSING THIS DATA:\n",
    "* Tabular   \n",
    "    * Encode/Embed all text & stats\n",
    "    * Embed all images\n",
    "    * Combined embedding\n",
    "\n",
    "\n",
    "MORE DATA\n",
    "* [BEST] Amazon Product Reviews (item metadata, image link, and user reviews): https://cseweb.ucsd.edu/~jmcauley/datasets.html. Example data:\n",
    "```\n",
    "{\n",
    "  \"sort_timestamp\": 1634275259292,\n",
    "  \"rating\": 3.0,\n",
    "  \"helpful_votes\": 0,\n",
    "  \"title\": \"Meh\",\n",
    "  \"text\": \"These were lightweight and soft but much too small for my liking. I would have preferred two of these together to make one loc. For that reason I will not be repurchasing.\",\n",
    "  \"images\": [\n",
    "    {\n",
    "      \"small_image_url\": \"https://m.media-amazon.com/images/I/81FN4c0VHzL._SL256_.jpg\",\n",
    "      \"medium_image_url\": \"https://m.media-amazon.com/images/I/81FN4c0VHzL._SL800_.jpg\",\n",
    "      \"large_image_url\": \"https://m.media-amazon.com/images/I/81FN4c0VHzL._SL1600_.jpg\",\n",
    "      \"attachment_type\": \"IMAGE\"\n",
    "    }\n",
    "  ],\n",
    "  \"asin\": \"B088SZDGXG\",\n",
    "  \"verified_purchase\": true,\n",
    "  \"parent_asin\": \"B08BBQ29N5\",\n",
    "  \"user_id\": \"AEYORY2AVPMCPDV57CE337YU5LXA\"\n",
    "}\n",
    "```\n",
    "* Amazon Reviews ONLY: https://www.tensorflow.org/datasets/catalog/amazon_us_reviews"
   ]
  },
  {
   "cell_type": "code",
   "execution_count": 1,
   "metadata": {},
   "outputs": [],
   "source": [
    "import json\n",
    "import pandas as pd\n",
    "import os"
   ]
  },
  {
   "cell_type": "markdown",
   "metadata": {},
   "source": [
    "### MERGE McAuley Lab Amazon Review Data\n",
    "https://amazon-reviews-2023.github.io"
   ]
  },
  {
   "cell_type": "code",
   "execution_count": 2,
   "metadata": {},
   "outputs": [
    {
     "data": {
      "text/plain": [
       "2500939"
      ]
     },
     "execution_count": 2,
     "metadata": {},
     "output_type": "execute_result"
    }
   ],
   "source": [
    "filepath = '/Users/ez/Downloads/Amazon_Fashion.jsonl'\n",
    "\n",
    "with open(filepath, 'r') as f:\n",
    "    reviews = []\n",
    "    for line in f:\n",
    "        try:\n",
    "            reviews.append(json.loads(line))\n",
    "        except ValueError:\n",
    "            pass\n",
    "\n",
    "len(reviews)"
   ]
  },
  {
   "cell_type": "code",
   "execution_count": 3,
   "metadata": {},
   "outputs": [
    {
     "data": {
      "text/plain": [
       "{'rating': 5.0,\n",
       " 'title': 'Pretty locket',\n",
       " 'text': 'I think this locket is really pretty. The inside back is a solid silver depression and the front is a dome that is not solid (knotted). You could use it to store a small photo, lock of hair, etc but I use it when I need to carry medication with me. Closes securely. High quality & very pretty.',\n",
       " 'images': [],\n",
       " 'asin': 'B00LOPVX74',\n",
       " 'parent_asin': 'B00LOPVX74',\n",
       " 'user_id': 'AGBFYI2DDIKXC5Y4FARTYDTQBMFQ',\n",
       " 'timestamp': 1578528394489,\n",
       " 'helpful_vote': 3,\n",
       " 'verified_purchase': True}"
      ]
     },
     "execution_count": 3,
     "metadata": {},
     "output_type": "execute_result"
    }
   ],
   "source": [
    "reviews[0]"
   ]
  },
  {
   "cell_type": "code",
   "execution_count": 4,
   "metadata": {},
   "outputs": [
    {
     "data": {
      "text/plain": [
       "826108"
      ]
     },
     "execution_count": 4,
     "metadata": {},
     "output_type": "execute_result"
    }
   ],
   "source": [
    "filepath_meta = '/Users/ez/Downloads/meta_Amazon_Fashion.jsonl'\n",
    "\n",
    "with open(filepath_meta, 'r') as f:\n",
    "    meta = []\n",
    "    for line in f:\n",
    "        try:\n",
    "            meta.append(json.loads(line))\n",
    "        except ValueError:\n",
    "            pass\n",
    "\n",
    "len(meta)\n"
   ]
  },
  {
   "cell_type": "code",
   "execution_count": 5,
   "metadata": {},
   "outputs": [
    {
     "data": {
      "text/plain": [
       "dict_keys(['main_category', 'title', 'average_rating', 'rating_number', 'features', 'description', 'price', 'images', 'videos', 'store', 'categories', 'details', 'parent_asin', 'bought_together'])"
      ]
     },
     "execution_count": 5,
     "metadata": {},
     "output_type": "execute_result"
    }
   ],
   "source": [
    "meta[0].keys()"
   ]
  },
  {
   "cell_type": "code",
   "execution_count": null,
   "metadata": {},
   "outputs": [],
   "source": [
    "meta[0]"
   ]
  },
  {
   "cell_type": "code",
   "execution_count": 9,
   "metadata": {},
   "outputs": [],
   "source": [
    "# Extract list of PARENT_ASIN from META\n",
    "meta_ids = []\n",
    "for item in meta:\n",
    "    meta_ids.append(item['parent_asin'])\n",
    "\n",
    "# Extract list of PARENT_ASIN from REVIEWs\n",
    "review_ids = []\n",
    "for item in reviews:\n",
    "    review_ids.append(item['parent_asin'])"
   ]
  },
  {
   "cell_type": "code",
   "execution_count": 15,
   "metadata": {},
   "outputs": [
    {
     "data": {
      "text/plain": [
       "825869"
      ]
     },
     "execution_count": 15,
     "metadata": {},
     "output_type": "execute_result"
    }
   ],
   "source": [
    "shared_ids = set(meta_ids).intersection(review_ids)\n",
    "len(shared_ids)"
   ]
  },
  {
   "cell_type": "code",
   "execution_count": 16,
   "metadata": {},
   "outputs": [],
   "source": [
    "# Extract data\n",
    "# meta_subset = []\n",
    "meta_subset = [d for d in meta if d.get('parent_asin') in shared_ids]\n",
    "\n",
    "# for d in meta:\n",
    "#     if d['parent_asin'] in shared_ids:\n",
    "#         meta_subset.append(d)\n",
    "\n",
    "\n",
    "# reviews_subset = []\n",
    "# # product_reviewed = [] # Can have multiple reviews per product, \n",
    "#                     # but for the sake of this exercise, each product will have 1 review\n",
    "# for d in reviews:\n",
    "#     # if d['parent_asin'] in shared_ids and d['parent_asin'] not in product_reviewed:\n",
    "#     if d['parent_asin'] in shared_ids:\n",
    "#         reviews_subset.append(d)\n",
    "#         # product_reviewed.append(d['parent_asin'])\n",
    "\n",
    "reviews_subset = [d for d in reviews if d.get('parent_asin') in shared_ids]"
   ]
  },
  {
   "cell_type": "code",
   "execution_count": 17,
   "metadata": {},
   "outputs": [
    {
     "data": {
      "text/plain": [
       "(2500939, 825869)"
      ]
     },
     "execution_count": 17,
     "metadata": {},
     "output_type": "execute_result"
    }
   ],
   "source": [
    "len(reviews_subset), len(meta_subset) # These turn out to be the same dim as the original data"
   ]
  },
  {
   "cell_type": "code",
   "execution_count": 18,
   "metadata": {},
   "outputs": [],
   "source": [
    "# Delete original datasets\n",
    "del meta, reviews"
   ]
  },
  {
   "cell_type": "markdown",
   "metadata": {},
   "source": [
    "#### DEAL WITH MULTIPLE REVIEWS"
   ]
  },
  {
   "cell_type": "code",
   "execution_count": 149,
   "metadata": {},
   "outputs": [],
   "source": [
    "reviews_subset_test = reviews_subset\n",
    "meta_subset_test = meta_subset"
   ]
  },
  {
   "cell_type": "code",
   "execution_count": 150,
   "metadata": {},
   "outputs": [],
   "source": [
    "# Make into DF\n",
    "reviews_subset_test = pd.DataFrame(reviews_subset_test)\n",
    "meta_subset_test = pd.DataFrame(meta_subset_test)"
   ]
  },
  {
   "cell_type": "code",
   "execution_count": 151,
   "metadata": {},
   "outputs": [],
   "source": [
    "# Rename reviews title & images\n",
    "reviews_subset_test.rename(columns={\"title\": \"title_review\", \"images\": \"images_review\"}, inplace=True)"
   ]
  },
  {
   "cell_type": "code",
   "execution_count": 152,
   "metadata": {},
   "outputs": [],
   "source": [
    "# Merge\n",
    "merged_data = pd.merge(meta_subset_test, reviews_subset_test, left_on='parent_asin', right_on='parent_asin', how='right')"
   ]
  },
  {
   "cell_type": "code",
   "execution_count": 153,
   "metadata": {},
   "outputs": [
    {
     "data": {
      "text/plain": [
       "2500939"
      ]
     },
     "execution_count": 153,
     "metadata": {},
     "output_type": "execute_result"
    }
   ],
   "source": [
    "len(merged_data)"
   ]
  },
  {
   "cell_type": "code",
   "execution_count": 154,
   "metadata": {},
   "outputs": [],
   "source": [
    "reviews_subset_test.drop(columns=['parent_asin'], inplace=True)"
   ]
  },
  {
   "cell_type": "code",
   "execution_count": 155,
   "metadata": {},
   "outputs": [
    {
     "data": {
      "text/plain": [
       "['rating',\n",
       " 'title_review',\n",
       " 'text',\n",
       " 'images_review',\n",
       " 'asin',\n",
       " 'user_id',\n",
       " 'timestamp',\n",
       " 'helpful_vote',\n",
       " 'verified_purchase']"
      ]
     },
     "execution_count": 155,
     "metadata": {},
     "output_type": "execute_result"
    }
   ],
   "source": [
    "aggregate_columns = list(reviews_subset_test.columns)\n",
    "aggregate_columns"
   ]
  },
  {
   "cell_type": "markdown",
   "metadata": {},
   "source": [
    "Use DASK to parallelize grouping"
   ]
  },
  {
   "cell_type": "code",
   "execution_count": 158,
   "metadata": {},
   "outputs": [],
   "source": [
    "import dask.dataframe as dd\n",
    "merged_data_dask = dd.from_pandas(merged_data, npartitions=4)"
   ]
  },
  {
   "cell_type": "code",
   "execution_count": 159,
   "metadata": {},
   "outputs": [],
   "source": [
    "# Perform groupby and aggregation to list using Dask\n",
    "aggregated_reviews_dask = merged_data_dask.groupby('parent_asin')[aggregate_columns].agg(list).reset_index()"
   ]
  },
  {
   "cell_type": "code",
   "execution_count": 160,
   "metadata": {},
   "outputs": [],
   "source": [
    "# Convert Dask DF back to Pandas DF\n",
    "aggregated_reviews = aggregated_reviews_dask.compute()"
   ]
  },
  {
   "cell_type": "code",
   "execution_count": 161,
   "metadata": {},
   "outputs": [],
   "source": [
    "# Flatten\n",
    "def flatten_l_of_l_of_dict(list_of_lists):\n",
    "    return [item for sublist in list_of_lists for item in sublist]"
   ]
  },
  {
   "cell_type": "code",
   "execution_count": 162,
   "metadata": {},
   "outputs": [],
   "source": [
    "aggregated_reviews['images_review'] = aggregated_reviews['images_review'].apply(flatten_l_of_l_of_dict)"
   ]
  },
  {
   "cell_type": "code",
   "execution_count": 164,
   "metadata": {},
   "outputs": [],
   "source": [
    "# Add product info columns based on matching id\n",
    "final_df = pd.merge(meta_subset_test, aggregated_reviews, on='parent_asin', how='right')"
   ]
  },
  {
   "cell_type": "code",
   "execution_count": 165,
   "metadata": {},
   "outputs": [
    {
     "data": {
      "text/plain": [
       "main_category\n",
       "AMAZON FASHION    825869\n",
       "Name: count, dtype: int64"
      ]
     },
     "execution_count": 165,
     "metadata": {},
     "output_type": "execute_result"
    }
   ],
   "source": [
    "final_df['main_category'].value_counts() # No matching right now"
   ]
  },
  {
   "cell_type": "code",
   "execution_count": 166,
   "metadata": {},
   "outputs": [
    {
     "data": {
      "text/plain": [
       "825869"
      ]
     },
     "execution_count": 166,
     "metadata": {},
     "output_type": "execute_result"
    }
   ],
   "source": [
    "len(final_df) # length should match"
   ]
  },
  {
   "cell_type": "code",
   "execution_count": 196,
   "metadata": {},
   "outputs": [
    {
     "name": "stdout",
     "output_type": "stream",
     "text": [
      "[{'thumb': 'https://m.media-amazon.com/images/I/310Mb7HArGL._AC_SR38,50_.jpg', 'large': 'https://m.media-amazon.com/images/I/310Mb7HArGL._AC_.jpg', 'variant': 'MAIN', 'hi_res': 'https://m.media-amazon.com/images/I/715nzfTpnYL._AC_UL1500_.jpg'}, {'thumb': 'https://m.media-amazon.com/images/I/31q0U-iv5ML._AC_SR38,50_.jpg', 'large': 'https://m.media-amazon.com/images/I/31q0U-iv5ML._AC_.jpg', 'variant': 'PT01', 'hi_res': 'https://m.media-amazon.com/images/I/71A9skIGW5L._AC_UL1500_.jpg'}, {'thumb': 'https://m.media-amazon.com/images/I/512QK54eqHL._AC_SR38,50_.jpg', 'large': 'https://m.media-amazon.com/images/I/512QK54eqHL._AC_.jpg', 'variant': 'PT11', 'hi_res': 'https://m.media-amazon.com/images/I/816yZ5ReQTL._AC_UL1436_.jpg'}, {'thumb': 'https://m.media-amazon.com/images/I/61Fkqm0y3BL._AC_SR38,50_.jpg', 'large': 'https://m.media-amazon.com/images/I/61Fkqm0y3BL._AC_.jpg', 'variant': 'PT13', 'hi_res': None}, {'thumb': 'https://m.media-amazon.com/images/I/51H7BVWuh1L._AC_SR38,50_.jpg', 'large': 'https://m.media-amazon.com/images/I/51H7BVWuh1L._AC_.jpg', 'variant': 'PT14', 'hi_res': 'https://m.media-amazon.com/images/I/71okxz+DoqL._AC_UL1052_.jpg'}]\n"
     ]
    }
   ],
   "source": [
    "# Check alignment \n",
    "# print(final_df['images'].iloc[175])"
   ]
  },
  {
   "cell_type": "code",
   "execution_count": 169,
   "metadata": {},
   "outputs": [],
   "source": [
    "# Export \n",
    "# final_df.to_csv('amazon_fashion_merged_051624.csv')\n",
    "# final_df.to_parquet('amazon_fashion_merged_051624.parquet', index=False)"
   ]
  }
 ],
 "metadata": {
  "kernelspec": {
   "display_name": "base",
   "language": "python",
   "name": "python3"
  },
  "language_info": {
   "codemirror_mode": {
    "name": "ipython",
    "version": 3
   },
   "file_extension": ".py",
   "mimetype": "text/x-python",
   "name": "python",
   "nbconvert_exporter": "python",
   "pygments_lexer": "ipython3",
   "version": "3.11.4"
  }
 },
 "nbformat": 4,
 "nbformat_minor": 2
}
